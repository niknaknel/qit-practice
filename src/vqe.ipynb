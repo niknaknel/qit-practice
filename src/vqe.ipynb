{
 "cells": [
  {
   "metadata": {},
   "cell_type": "markdown",
   "source": [
    "# Variational Quantum Eigensolver\n",
    "\n",
    "## Summary\n",
    "* Aims to find minimize the Hamiltonian, i.e. find the ground state energy of the system.\n",
    "* Often used in Quantum Chemistry to find the ground state energy of a molecule\n",
    "\n",
    "#### Method\n",
    "1. Define the Hamiltonian $\\hat{H}$ of the system and choose an ansatz with parameters $\\overrightarrow{\\theta}$.\n",
    "2. Apply the ansatz to prepare the trial quantum state $\\ket{\\psi(\\overrightarrow{\\theta})}$.\n",
    "3. Measure the expectation value $E(\\overrightarrow{\\theta}) = \\bra{\\psi(\\overrightarrow{\\theta})} \\hat{H} \\ket{\\psi(\\overrightarrow{\\theta})}$\n",
    "4. Optimization: Use a classical optimizer such as Gradient Descent to update $\\overrightarrow{\\theta}$ such that it minimizes $E(\\overrightarrow{\\theta})$. The resulting state should be $\\ket{\\Psi_0}$, which will give us $E_0$.\n",
    "\n",
    "#### Considerations\n",
    "* particularly suitable for near-term quantum devices because it requires relatively short quantum circuits and can tolerate certain level of noise.\n",
    "* However, the ansatz needs to be expressive enough to capture the true ground state, while being simple enough to allow trainability and execution on current quantum hardware.\n",
    "---"
   ],
   "id": "e06dc6ac510f2e18"
  },
  {
   "metadata": {
    "ExecuteTime": {
     "end_time": "2025-01-30T00:02:29.217712Z",
     "start_time": "2025-01-30T00:02:28.328734Z"
    }
   },
   "cell_type": "code",
   "source": [
    "import pennylane as qml\n",
    "from pennylane import numpy as np\n",
    "from pennylane.data.data_manager import params\n",
    "import matplotlib.pyplot as plt"
   ],
   "id": "69a042d3abf750a0",
   "outputs": [],
   "execution_count": 1
  },
  {
   "metadata": {},
   "cell_type": "markdown",
   "source": "### Codercise V.2.1",
   "id": "e3b01216ba4588a6"
  },
  {
   "metadata": {
    "ExecuteTime": {
     "end_time": "2025-01-30T00:02:36.958182Z",
     "start_time": "2025-01-30T00:02:36.950663Z"
    }
   },
   "cell_type": "code",
   "source": [
    "dev = qml.device(\"default.qubit\", wires=4)\n",
    "\n",
    "@qml.qnode(dev)\n",
    "def strongly_entangling_ansatz(observable, params):\n",
    "    \"\"\"Applies an ansatz with moderate entanglement.\n",
    "\n",
    "    Args:\n",
    "        observable (qml.op): a pennylane operator whose expectation value we want to measure.\n",
    "        params(np.array): an array with the trainable parameters of the ansatz. They have the shape of `qml.StronglyEntanglingLayers.shape(n_layers=1, n_wires=n_bits)`\n",
    "\n",
    "    Returns:\n",
    "        (np.tensor): a numpy tensor of 1 element corresponding to the expectation value of the given observable.\n",
    "    \"\"\"\n",
    "    ##################\n",
    "    # YOUR CODE HERE #\n",
    "    ##################\n",
    "    for i in range(n_bits):\n",
    "        qml.Rot(params[0][i][0],params[0][i][1],params[0][i][2],wires=i)\n",
    "    qml.CNOT(wires=[0, n_bits-1])\n",
    "    for i in range(1, n_bits):\n",
    "        qml.CNOT(wires=[i, i-1])\n",
    "\n",
    "    return qml.expval(observable)\n",
    "\n",
    "def cost_function(observable, observableparams):\n",
    "    \"\"\"Computes the cost function we want to minimize.\n",
    "\n",
    "    Args:\n",
    "        observable (qml.Hamiltonian): a pennylane Hamiltonian whose expectation value we want to measure.\n",
    "        params(np.array): an array with the trainable parameters of the ansatz.\n",
    "\n",
    "    Returns:\n",
    "        (np.tensor): a numpy tensor of 1 element corresponding to the cost function value\n",
    "    \"\"\"\n",
    "    ##################\n",
    "    # YOUR CODE HERE #\n",
    "    ##################\n",
    "    return strongly_entangling_ansatz(observable, observableparams)\n",
    "    \n",
    "def optimizer(observable, params, learning_rate=0.1, steps=100):\n",
    "    \"\"\"Updates the parameters to minimize the cost function value.\n",
    "\n",
    "    Args:\n",
    "        observable (qml.Hamiltonian): a pennylane Hamiltonian whose expectation value we want to measure.\n",
    "        params(np.array): an array with the trainable parameters of the ansatz.\n",
    "\n",
    "    Returns:\n",
    "        (np.array): an array with the optimized trainable parameters.\n",
    "    \"\"\"\n",
    "    ##################\n",
    "    # YOUR CODE HERE #\n",
    "    ##################\n",
    "    optimizer = qml.GradientDescentOptimizer(learning_rate)\n",
    "    optimized_params = params.copy()\n",
    "    cost = lambda p: cost_function(observable, p)\n",
    "\n",
    "    for _ in range(steps):\n",
    "        optimized_params = optimizer.step(cost, optimized_params)\n",
    "\n",
    "    return optimized_params\n",
    "    "
   ],
   "id": "dc3d9ad7e9f2102c",
   "outputs": [],
   "execution_count": 2
  },
  {
   "cell_type": "code",
   "id": "initial_id",
   "metadata": {
    "collapsed": true,
    "ExecuteTime": {
     "end_time": "2025-01-30T00:02:37.843912Z",
     "start_time": "2025-01-30T00:02:37.837009Z"
    }
   },
   "source": [
    "n_bits = 2\n",
    "dev = qml.device(\"default.qubit\", wires=n_bits, shots=None)\n",
    "np.random.seed(41)\n",
    "def build_hamiltonian():\n",
    "    \"\"\"Build the Hamiltonian.\n",
    "\n",
    "    Returns:\n",
    "        (qml.Hamiltonian): Hamiltonian operator.\n",
    "    \"\"\"\n",
    "    ##################\n",
    "    # YOUR CODE HERE #\n",
    "    ##################\n",
    "    return qml.dot([1, -1], [qml.Z(0) @ qml.Z(1), qml.X(0) @ qml.X(1)])\n",
    "\n",
    "def run_vqe():\n",
    "    \"\"\"Run VQE algorithm with initial parameters defined by the user.\n",
    "\n",
    "    Returns:\n",
    "        array(float): Ground state energy of the Hamiltonian.\n",
    "    \"\"\"\n",
    "    ##################\n",
    "    # YOUR CODE HERE #\n",
    "    ##################\n",
    "    # initialise parameters\n",
    "    shape = qml.StronglyEntanglingLayers.shape(n_layers=1, n_wires=n_bits)\n",
    "    initial_params = np.random.randn(*shape, requires_grad=True)\n",
    "\n",
    "    H = build_hamiltonian()\n",
    "    opt_params = optimizer(H, initial_params)\n",
    "    \n",
    "    return cost_function(H, opt_params)\n",
    "\n",
    " "
   ],
   "outputs": [],
   "execution_count": 3
  },
  {
   "metadata": {
    "ExecuteTime": {
     "end_time": "2025-01-30T00:02:39.180588Z",
     "start_time": "2025-01-30T00:02:38.812007Z"
    }
   },
   "cell_type": "code",
   "source": [
    "e0 = run_vqe()\n",
    "print(\"Ground state energy:\", e0)"
   ],
   "id": "773226fc9eb31393",
   "outputs": [
    {
     "name": "stdout",
     "output_type": "stream",
     "text": [
      "Ground state energy: -1.999999036614355\n"
     ]
    }
   ],
   "execution_count": 4
  },
  {
   "metadata": {},
   "cell_type": "markdown",
   "source": "### Codercise V.2.2.a",
   "id": "a9d440ddc6ca76c9"
  },
  {
   "metadata": {
    "ExecuteTime": {
     "end_time": "2025-02-04T21:05:14.139057Z",
     "start_time": "2025-02-04T21:05:11.689530Z"
    }
   },
   "cell_type": "code",
   "source": [
    "# Couldn't get this one to work!\n",
    "\n",
    "import pennylane as qml\n",
    "import numpy as np\n",
    "\n",
    "# Import the H2 molecule dataset\n",
    "dataset = qml.data.load('qchem', folder_path=\"/tmp\", molname=\"H2\")[0]\n",
    "# Define Hamiltonian and qubits\n",
    "H, qubits = dataset.hamiltonian, len(dataset.hamiltonian.wires)\n",
    "# The Hartree-Fock State\n",
    "hf = dataset.hf_state\n",
    "# Define the single and double excitations\n",
    "singles, doubles = qml.qchem.excitations(electrons=2, orbitals=qubits)\n",
    "num_params = len(singles) + len(doubles)\n",
    "\n",
    "def hf_ansatz(params):\n",
    "    \"\"\"Build the Hartree-Fock ansatz.\n",
    "    \n",
    "    Args:\n",
    "        params (np.array): An array with the angles of the single and double excitations.\n",
    "    \"\"\"\n",
    "    ##################\n",
    "    # YOUR CODE HERE #\n",
    "    ##################\n",
    "    qml.AllSinglesDoubles(params, range(qubits), hf, singles, doubles)\n",
    "\n",
    "dev = qml.device(\"default.qubit\", wires=qubits)\n",
    "@qml.qnode(dev, interface=\"autograd\")\n",
    "def cost_hf(params):\n",
    "    \"\"\"Build the cost function using the Hartree-Fock ansatz.\n",
    "    Args:\n",
    "        params (np.array): An array with the angles of the single and double excitations.\n",
    "\n",
    "    Returns:\n",
    "        (np.tensor): Energy of the Hamiltonian.\n",
    "    \"\"\"\n",
    "    ##################\n",
    "    # YOUR CODE HERE #\n",
    "    ##################\n",
    "    hf_ansatz(params)\n",
    "    return qml.expval(H)\n",
    "\n",
    "init_params = np.random.normal(0.5, size=(len(singles) + len(doubles),)) * np.pi\n",
    "print(cost_hf(init_params))"
   ],
   "id": "6f0c58656adcc66f",
   "outputs": [
    {
     "name": "stdout",
     "output_type": "stream",
     "text": [
      "0.2046800127508141\n"
     ]
    }
   ],
   "execution_count": 14
  },
  {
   "metadata": {},
   "cell_type": "markdown",
   "source": "### Codercise V.2.2.b",
   "id": "7fc0530400f19232"
  },
  {
   "metadata": {
    "ExecuteTime": {
     "end_time": "2025-02-04T21:11:03.991327Z",
     "start_time": "2025-02-04T21:11:03.491986Z"
    }
   },
   "cell_type": "code",
   "source": [
    "import warnings\n",
    "warnings.filterwarnings('ignore')\n",
    "\n",
    "def optimizer_hf(params, learning_rate=0.1, steps=100):\n",
    "    \"\"\"Updates the parameters to minimize the cost function value.\n",
    "\n",
    "    Args:\n",
    "        params(np.array): an array with the trainable parameters of the ansatz.\n",
    "\n",
    "    Returns:\n",
    "        (np.array): an array with the optimized trainable parameters.\n",
    "    \"\"\"\n",
    "    optimizer = qml.GradientDescentOptimizer(learning_rate)\n",
    "    optimized_params = params.copy()\n",
    "    cost = lambda p: cost_hf(p)\n",
    "\n",
    "    for _ in range(steps):\n",
    "        optimized_params = optimizer.step(cost, optimized_params)\n",
    "\n",
    "    return optimized_params\n",
    "    \n",
    "\n",
    "def run_VQE_hf():\n",
    "    \"\"\"Executes the VQE optimizing the parameters of the Hartree-Fock ansatz.\n",
    "\n",
    "    Returns:\n",
    "        (np.array): an array with the optimized trainable parameters.\n",
    "        (float): the ground state energy\n",
    "    \"\"\"\n",
    "    ##################\n",
    "    # YOUR CODE HERE #\n",
    "    ##################\n",
    "    init_params = np.random.normal(0, np.pi, len(singles) + len(doubles))\n",
    "    opt_params = optimizer_hf(init_params)\n",
    "    gs = cost_hf(opt_params)\n",
    "\n",
    "    return opt_params, gs\n",
    "\n",
    "run_VQE_hf()"
   ],
   "id": "ab579f0bf0bb4181",
   "outputs": [
    {
     "data": {
      "text/plain": [
       "(array([2.69845679, 6.48649925, 3.76966423]),\n",
       " tensor(-0.21927603, requires_grad=True))"
      ]
     },
     "execution_count": 16,
     "metadata": {},
     "output_type": "execute_result"
    }
   ],
   "execution_count": 16
  }
 ],
 "metadata": {
  "kernelspec": {
   "display_name": "Python 3",
   "language": "python",
   "name": "python3"
  },
  "language_info": {
   "codemirror_mode": {
    "name": "ipython",
    "version": 2
   },
   "file_extension": ".py",
   "mimetype": "text/x-python",
   "name": "python",
   "nbconvert_exporter": "python",
   "pygments_lexer": "ipython2",
   "version": "2.7.6"
  }
 },
 "nbformat": 4,
 "nbformat_minor": 5
}
