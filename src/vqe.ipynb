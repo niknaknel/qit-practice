{
 "cells": [
  {
   "metadata": {},
   "cell_type": "markdown",
   "source": [
    "# Variational Quantum Eigensolver\n",
    "\n",
    "## Summary\n",
    "* Aims to find minimize the Hamiltonian, i.e. find the ground state energy of the system.\n",
    "* Often used in Quantum Chemistry to find the ground state energy of a molecule\n",
    "\n",
    "#### Method\n",
    "1. Define the Hamiltonian $\\hat{H}$ of the system and choose an ansatz with parameters $\\overrightarrow{\\theta}$.\n",
    "2. Apply the ansatz to prepare the trial quantum state $\\ket{\\psi(\\overrightarrow{\\theta})}$.\n",
    "3. Measure the expectation value $E(\\overrightarrow{\\theta}) = \\bra{\\psi(\\overrightarrow{\\theta})} \\hat{H} \\ket{\\psi(\\overrightarrow{\\theta})}$\n",
    "4. Optimization: Use a classical optimizer such as Gradient Descent to update $\\overrightarrow{\\theta}$ such that it minimizes $E(\\overrightarrow{\\theta})$. The resulting state should be $\\ket{\\Psi_0}$, which will give us $E_0$.\n",
    "\n",
    "#### Considerations\n",
    "* particularly suitable for near-term quantum devices because it requires relatively short quantum circuits and can tolerate certain level of noise.\n",
    "* However, the ansatz needs to be expressive enough to capture the true ground state, while being simple enough to allow trainability and execution on current quantum hardware.\n",
    "---"
   ],
   "id": "e06dc6ac510f2e18"
  },
  {
   "metadata": {
    "ExecuteTime": {
     "end_time": "2025-01-30T00:02:29.217712Z",
     "start_time": "2025-01-30T00:02:28.328734Z"
    }
   },
   "cell_type": "code",
   "source": [
    "import pennylane as qml\n",
    "from pennylane import numpy as np\n",
    "from pennylane.data.data_manager import params\n",
    "import matplotlib.pyplot as plt"
   ],
   "id": "69a042d3abf750a0",
   "outputs": [],
   "execution_count": 1
  },
  {
   "metadata": {},
   "cell_type": "markdown",
   "source": "### Codercise V.2.1",
   "id": "e3b01216ba4588a6"
  },
  {
   "metadata": {
    "ExecuteTime": {
     "end_time": "2025-01-30T00:02:36.958182Z",
     "start_time": "2025-01-30T00:02:36.950663Z"
    }
   },
   "cell_type": "code",
   "source": [
    "dev = qml.device(\"default.qubit\", wires=4)\n",
    "\n",
    "@qml.qnode(dev)\n",
    "def strongly_entangling_ansatz(observable, params):\n",
    "    \"\"\"Applies an ansatz with moderate entanglement.\n",
    "\n",
    "    Args:\n",
    "        observable (qml.op): a pennylane operator whose expectation value we want to measure.\n",
    "        params(np.array): an array with the trainable parameters of the ansatz. They have the shape of `qml.StronglyEntanglingLayers.shape(n_layers=1, n_wires=n_bits)`\n",
    "\n",
    "    Returns:\n",
    "        (np.tensor): a numpy tensor of 1 element corresponding to the expectation value of the given observable.\n",
    "    \"\"\"\n",
    "    ##################\n",
    "    # YOUR CODE HERE #\n",
    "    ##################\n",
    "    for i in range(n_bits):\n",
    "        qml.Rot(params[0][i][0],params[0][i][1],params[0][i][2],wires=i)\n",
    "    qml.CNOT(wires=[0, n_bits-1])\n",
    "    for i in range(1, n_bits):\n",
    "        qml.CNOT(wires=[i, i-1])\n",
    "\n",
    "    return qml.expval(observable)\n",
    "\n",
    "def cost_function(observable, observableparams):\n",
    "    \"\"\"Computes the cost function we want to minimize.\n",
    "\n",
    "    Args:\n",
    "        observable (qml.Hamiltonian): a pennylane Hamiltonian whose expectation value we want to measure.\n",
    "        params(np.array): an array with the trainable parameters of the ansatz.\n",
    "\n",
    "    Returns:\n",
    "        (np.tensor): a numpy tensor of 1 element corresponding to the cost function value\n",
    "    \"\"\"\n",
    "    ##################\n",
    "    # YOUR CODE HERE #\n",
    "    ##################\n",
    "    return strongly_entangling_ansatz(observable, observableparams)\n",
    "    \n",
    "def optimizer(observable, params, learning_rate=0.1, steps=100):\n",
    "    \"\"\"Updates the parameters to minimize the cost function value.\n",
    "\n",
    "    Args:\n",
    "        observable (qml.Hamiltonian): a pennylane Hamiltonian whose expectation value we want to measure.\n",
    "        params(np.array): an array with the trainable parameters of the ansatz.\n",
    "\n",
    "    Returns:\n",
    "        (np.array): an array with the optimized trainable parameters.\n",
    "    \"\"\"\n",
    "    ##################\n",
    "    # YOUR CODE HERE #\n",
    "    ##################\n",
    "    optimizer = qml.GradientDescentOptimizer(learning_rate)\n",
    "    optimized_params = params.copy()\n",
    "    cost = lambda p: cost_function(observable, p)\n",
    "\n",
    "    for _ in range(steps):\n",
    "        optimized_params = optimizer.step(cost, optimized_params)\n",
    "\n",
    "    return optimized_params\n",
    "    "
   ],
   "id": "dc3d9ad7e9f2102c",
   "outputs": [],
   "execution_count": 2
  },
  {
   "cell_type": "code",
   "id": "initial_id",
   "metadata": {
    "collapsed": true,
    "ExecuteTime": {
     "end_time": "2025-01-30T00:02:37.843912Z",
     "start_time": "2025-01-30T00:02:37.837009Z"
    }
   },
   "source": [
    "n_bits = 2\n",
    "dev = qml.device(\"default.qubit\", wires=n_bits, shots=None)\n",
    "np.random.seed(41)\n",
    "def build_hamiltonian():\n",
    "    \"\"\"Build the Hamiltonian.\n",
    "\n",
    "    Returns:\n",
    "        (qml.Hamiltonian): Hamiltonian operator.\n",
    "    \"\"\"\n",
    "    ##################\n",
    "    # YOUR CODE HERE #\n",
    "    ##################\n",
    "    return qml.dot([1, -1], [qml.Z(0) @ qml.Z(1), qml.X(0) @ qml.X(1)])\n",
    "\n",
    "def run_vqe():\n",
    "    \"\"\"Run VQE algorithm with initial parameters defined by the user.\n",
    "\n",
    "    Returns:\n",
    "        array(float): Ground state energy of the Hamiltonian.\n",
    "    \"\"\"\n",
    "    ##################\n",
    "    # YOUR CODE HERE #\n",
    "    ##################\n",
    "    # initialise parameters\n",
    "    shape = qml.StronglyEntanglingLayers.shape(n_layers=1, n_wires=n_bits)\n",
    "    initial_params = np.random.randn(*shape, requires_grad=True)\n",
    "\n",
    "    H = build_hamiltonian()\n",
    "    opt_params = optimizer(H, initial_params)\n",
    "    \n",
    "    return cost_function(H, opt_params)\n",
    "\n",
    " "
   ],
   "outputs": [],
   "execution_count": 3
  },
  {
   "metadata": {
    "ExecuteTime": {
     "end_time": "2025-01-30T00:02:39.180588Z",
     "start_time": "2025-01-30T00:02:38.812007Z"
    }
   },
   "cell_type": "code",
   "source": [
    "e0 = run_vqe()\n",
    "print(\"Ground state energy:\", e0)"
   ],
   "id": "773226fc9eb31393",
   "outputs": [
    {
     "name": "stdout",
     "output_type": "stream",
     "text": [
      "Ground state energy: -1.999999036614355\n"
     ]
    }
   ],
   "execution_count": 4
  },
  {
   "metadata": {},
   "cell_type": "markdown",
   "source": "### Codercise V.2.2.a",
   "id": "a9d440ddc6ca76c9"
  },
  {
   "metadata": {
    "ExecuteTime": {
     "end_time": "2025-01-30T00:02:56.214069Z",
     "start_time": "2025-01-30T00:02:53.892112Z"
    }
   },
   "cell_type": "code",
   "source": [
    "# Couldn't get this one to work!\n",
    "\n",
    "from pennylane import qchem\n",
    "\n",
    "# Import the H2 molecule dataset\n",
    "dataset = qml.data.load('qchem', folder_path=\"/tmp\", molname=\"H2\")[0]\n",
    "# Define Hamiltonian and qubits\n",
    "H, qubits = dataset.hamiltonian, len(dataset.hamiltonian.wires)\n",
    "# The Hartree-Fock State\n",
    "hf = dataset.hf_state\n",
    "# Define the single and double excitations\n",
    "singles, doubles = qchem.excitations(electrons=2, orbitals=qubits)\n",
    "num_params = len(singles) + len(doubles)\n",
    "\n",
    "def hf_ansatz(params):\n",
    "    \"\"\"Build the Hartree-Fock ansatz.\n",
    "    \n",
    "    Args:\n",
    "        params (np.array): An array with the angles of the single and double excitations.\n",
    "    \"\"\"\n",
    "    ##################\n",
    "    # YOUR CODE HERE #\n",
    "    ##################\n",
    "    qml.AllSinglesDoubles(params, range(qubits), hf)\n",
    "\n",
    "dev = qml.device(\"default.qubit\", wires=qubits)\n",
    "@qml.qnode(dev, interface=\"autograd\")\n",
    "def cost_hf(params):\n",
    "    \"\"\"Build the cost function using the Hartree-Fock ansatz.\n",
    "    Args:\n",
    "        params (np.array): An array with the angles of the single and double excitations.\n",
    "\n",
    "    Returns:\n",
    "        (np.tensor): Energy of the Hamiltonian.\n",
    "    \"\"\"\n",
    "    ##################\n",
    "    # YOUR CODE HERE #\n",
    "    ##################\n",
    "    hf_ansatz(params)\n",
    "    return qml.expval(H)\n",
    "\n"
   ],
   "id": "6f0c58656adcc66f",
   "outputs": [
    {
     "ename": "FileNotFoundError",
     "evalue": "https://cloud.pennylane.ai/datasets/v2/download/h2-molecule-h2-sto-3g-0.742-n%5Ca-4",
     "output_type": "error",
     "traceback": [
      "\u001B[0;31m---------------------------------------------------------------------------\u001B[0m",
      "\u001B[0;31mSSLCertVerificationError\u001B[0m                  Traceback (most recent call last)",
      "File \u001B[0;32m~/Projects/qit-practice/.venv/lib/python3.12/site-packages/aiohttp/connector.py:1122\u001B[0m, in \u001B[0;36mTCPConnector._wrap_create_connection\u001B[0;34m(self, addr_infos, req, timeout, client_error, *args, **kwargs)\u001B[0m\n\u001B[1;32m   1115\u001B[0m         sock \u001B[38;5;241m=\u001B[39m \u001B[38;5;28;01mawait\u001B[39;00m aiohappyeyeballs\u001B[38;5;241m.\u001B[39mstart_connection(\n\u001B[1;32m   1116\u001B[0m             addr_infos\u001B[38;5;241m=\u001B[39maddr_infos,\n\u001B[1;32m   1117\u001B[0m             local_addr_infos\u001B[38;5;241m=\u001B[39m\u001B[38;5;28mself\u001B[39m\u001B[38;5;241m.\u001B[39m_local_addr_infos,\n\u001B[0;32m   (...)\u001B[0m\n\u001B[1;32m   1120\u001B[0m             loop\u001B[38;5;241m=\u001B[39m\u001B[38;5;28mself\u001B[39m\u001B[38;5;241m.\u001B[39m_loop,\n\u001B[1;32m   1121\u001B[0m         )\n\u001B[0;32m-> 1122\u001B[0m         \u001B[38;5;28;01mreturn\u001B[39;00m \u001B[38;5;28;01mawait\u001B[39;00m \u001B[38;5;28mself\u001B[39m\u001B[38;5;241m.\u001B[39m_loop\u001B[38;5;241m.\u001B[39mcreate_connection(\u001B[38;5;241m*\u001B[39margs, \u001B[38;5;241m*\u001B[39m\u001B[38;5;241m*\u001B[39mkwargs, sock\u001B[38;5;241m=\u001B[39msock)\n\u001B[1;32m   1123\u001B[0m \u001B[38;5;28;01mexcept\u001B[39;00m cert_errors \u001B[38;5;28;01mas\u001B[39;00m exc:\n",
      "File \u001B[0;32m/Library/Frameworks/Python.framework/Versions/3.12/lib/python3.12/asyncio/base_events.py:1149\u001B[0m, in \u001B[0;36mBaseEventLoop.create_connection\u001B[0;34m(self, protocol_factory, host, port, ssl, family, proto, flags, sock, local_addr, server_hostname, ssl_handshake_timeout, ssl_shutdown_timeout, happy_eyeballs_delay, interleave, all_errors)\u001B[0m\n\u001B[1;32m   1146\u001B[0m         \u001B[38;5;28;01mraise\u001B[39;00m \u001B[38;5;167;01mValueError\u001B[39;00m(\n\u001B[1;32m   1147\u001B[0m             \u001B[38;5;124mf\u001B[39m\u001B[38;5;124m'\u001B[39m\u001B[38;5;124mA Stream Socket was expected, got \u001B[39m\u001B[38;5;132;01m{\u001B[39;00msock\u001B[38;5;132;01m!r}\u001B[39;00m\u001B[38;5;124m'\u001B[39m)\n\u001B[0;32m-> 1149\u001B[0m transport, protocol \u001B[38;5;241m=\u001B[39m \u001B[38;5;28;01mawait\u001B[39;00m \u001B[38;5;28mself\u001B[39m\u001B[38;5;241m.\u001B[39m_create_connection_transport(\n\u001B[1;32m   1150\u001B[0m     sock, protocol_factory, ssl, server_hostname,\n\u001B[1;32m   1151\u001B[0m     ssl_handshake_timeout\u001B[38;5;241m=\u001B[39mssl_handshake_timeout,\n\u001B[1;32m   1152\u001B[0m     ssl_shutdown_timeout\u001B[38;5;241m=\u001B[39mssl_shutdown_timeout)\n\u001B[1;32m   1153\u001B[0m \u001B[38;5;28;01mif\u001B[39;00m \u001B[38;5;28mself\u001B[39m\u001B[38;5;241m.\u001B[39m_debug:\n\u001B[1;32m   1154\u001B[0m     \u001B[38;5;66;03m# Get the socket from the transport because SSL transport closes\u001B[39;00m\n\u001B[1;32m   1155\u001B[0m     \u001B[38;5;66;03m# the old socket and creates a new SSL socket\u001B[39;00m\n",
      "File \u001B[0;32m/Library/Frameworks/Python.framework/Versions/3.12/lib/python3.12/asyncio/base_events.py:1182\u001B[0m, in \u001B[0;36mBaseEventLoop._create_connection_transport\u001B[0;34m(self, sock, protocol_factory, ssl, server_hostname, server_side, ssl_handshake_timeout, ssl_shutdown_timeout)\u001B[0m\n\u001B[1;32m   1181\u001B[0m \u001B[38;5;28;01mtry\u001B[39;00m:\n\u001B[0;32m-> 1182\u001B[0m     \u001B[38;5;28;01mawait\u001B[39;00m waiter\n\u001B[1;32m   1183\u001B[0m \u001B[38;5;28;01mexcept\u001B[39;00m:\n",
      "File \u001B[0;32m/Library/Frameworks/Python.framework/Versions/3.12/lib/python3.12/asyncio/sslproto.py:578\u001B[0m, in \u001B[0;36mSSLProtocol._on_handshake_complete\u001B[0;34m(self, handshake_exc)\u001B[0m\n\u001B[1;32m    577\u001B[0m \u001B[38;5;28;01melse\u001B[39;00m:\n\u001B[0;32m--> 578\u001B[0m     \u001B[38;5;28;01mraise\u001B[39;00m handshake_exc\n\u001B[1;32m    580\u001B[0m peercert \u001B[38;5;241m=\u001B[39m sslobj\u001B[38;5;241m.\u001B[39mgetpeercert()\n",
      "File \u001B[0;32m/Library/Frameworks/Python.framework/Versions/3.12/lib/python3.12/asyncio/sslproto.py:560\u001B[0m, in \u001B[0;36mSSLProtocol._do_handshake\u001B[0;34m(self)\u001B[0m\n\u001B[1;32m    559\u001B[0m \u001B[38;5;28;01mtry\u001B[39;00m:\n\u001B[0;32m--> 560\u001B[0m     \u001B[38;5;28;43mself\u001B[39;49m\u001B[38;5;241;43m.\u001B[39;49m\u001B[43m_sslobj\u001B[49m\u001B[38;5;241;43m.\u001B[39;49m\u001B[43mdo_handshake\u001B[49m\u001B[43m(\u001B[49m\u001B[43m)\u001B[49m\n\u001B[1;32m    561\u001B[0m \u001B[38;5;28;01mexcept\u001B[39;00m SSLAgainErrors:\n",
      "File \u001B[0;32m/Library/Frameworks/Python.framework/Versions/3.12/lib/python3.12/ssl.py:917\u001B[0m, in \u001B[0;36mSSLObject.do_handshake\u001B[0;34m(self)\u001B[0m\n\u001B[1;32m    916\u001B[0m \u001B[38;5;250m\u001B[39m\u001B[38;5;124;03m\"\"\"Start the SSL/TLS handshake.\"\"\"\u001B[39;00m\n\u001B[0;32m--> 917\u001B[0m \u001B[38;5;28;43mself\u001B[39;49m\u001B[38;5;241;43m.\u001B[39;49m\u001B[43m_sslobj\u001B[49m\u001B[38;5;241;43m.\u001B[39;49m\u001B[43mdo_handshake\u001B[49m\u001B[43m(\u001B[49m\u001B[43m)\u001B[49m\n",
      "\u001B[0;31mSSLCertVerificationError\u001B[0m: [SSL: CERTIFICATE_VERIFY_FAILED] certificate verify failed: unable to get local issuer certificate (_ssl.c:1000)",
      "\nThe above exception was the direct cause of the following exception:\n",
      "\u001B[0;31mClientConnectorCertificateError\u001B[0m           Traceback (most recent call last)",
      "File \u001B[0;32m~/Projects/qit-practice/.venv/lib/python3.12/site-packages/fsspec/implementations/http.py:427\u001B[0m, in \u001B[0;36mHTTPFileSystem._info\u001B[0;34m(self, url, **kwargs)\u001B[0m\n\u001B[1;32m    425\u001B[0m \u001B[38;5;28;01mtry\u001B[39;00m:\n\u001B[1;32m    426\u001B[0m     info\u001B[38;5;241m.\u001B[39mupdate(\n\u001B[0;32m--> 427\u001B[0m         \u001B[38;5;28;01mawait\u001B[39;00m _file_info(\n\u001B[1;32m    428\u001B[0m             \u001B[38;5;28mself\u001B[39m\u001B[38;5;241m.\u001B[39mencode_url(url),\n\u001B[1;32m    429\u001B[0m             size_policy\u001B[38;5;241m=\u001B[39mpolicy,\n\u001B[1;32m    430\u001B[0m             session\u001B[38;5;241m=\u001B[39msession,\n\u001B[1;32m    431\u001B[0m             \u001B[38;5;241m*\u001B[39m\u001B[38;5;241m*\u001B[39m\u001B[38;5;28mself\u001B[39m\u001B[38;5;241m.\u001B[39mkwargs,\n\u001B[1;32m    432\u001B[0m             \u001B[38;5;241m*\u001B[39m\u001B[38;5;241m*\u001B[39mkwargs,\n\u001B[1;32m    433\u001B[0m         )\n\u001B[1;32m    434\u001B[0m     )\n\u001B[1;32m    435\u001B[0m     \u001B[38;5;28;01mif\u001B[39;00m info\u001B[38;5;241m.\u001B[39mget(\u001B[38;5;124m\"\u001B[39m\u001B[38;5;124msize\u001B[39m\u001B[38;5;124m\"\u001B[39m) \u001B[38;5;129;01mis\u001B[39;00m \u001B[38;5;129;01mnot\u001B[39;00m \u001B[38;5;28;01mNone\u001B[39;00m:\n",
      "File \u001B[0;32m~/Projects/qit-practice/.venv/lib/python3.12/site-packages/fsspec/implementations/http.py:815\u001B[0m, in \u001B[0;36m_file_info\u001B[0;34m(url, session, size_policy, **kwargs)\u001B[0m\n\u001B[1;32m    814\u001B[0m \u001B[38;5;28;01melif\u001B[39;00m size_policy \u001B[38;5;241m==\u001B[39m \u001B[38;5;124m\"\u001B[39m\u001B[38;5;124mget\u001B[39m\u001B[38;5;124m\"\u001B[39m:\n\u001B[0;32m--> 815\u001B[0m     r \u001B[38;5;241m=\u001B[39m \u001B[38;5;28;01mawait\u001B[39;00m session\u001B[38;5;241m.\u001B[39mget(url, allow_redirects\u001B[38;5;241m=\u001B[39mar, \u001B[38;5;241m*\u001B[39m\u001B[38;5;241m*\u001B[39mkwargs)\n\u001B[1;32m    816\u001B[0m \u001B[38;5;28;01melse\u001B[39;00m:\n",
      "File \u001B[0;32m~/Projects/qit-practice/.venv/lib/python3.12/site-packages/aiohttp/client.py:703\u001B[0m, in \u001B[0;36mClientSession._request\u001B[0;34m(self, method, str_or_url, params, data, json, cookies, headers, skip_auto_headers, auth, allow_redirects, max_redirects, compress, chunked, expect100, raise_for_status, read_until_eof, proxy, proxy_auth, timeout, verify_ssl, fingerprint, ssl_context, ssl, server_hostname, proxy_headers, trace_request_ctx, read_bufsize, auto_decompress, max_line_size, max_field_size)\u001B[0m\n\u001B[1;32m    702\u001B[0m \u001B[38;5;28;01mtry\u001B[39;00m:\n\u001B[0;32m--> 703\u001B[0m     conn \u001B[38;5;241m=\u001B[39m \u001B[38;5;28;01mawait\u001B[39;00m \u001B[38;5;28mself\u001B[39m\u001B[38;5;241m.\u001B[39m_connector\u001B[38;5;241m.\u001B[39mconnect(\n\u001B[1;32m    704\u001B[0m         req, traces\u001B[38;5;241m=\u001B[39mtraces, timeout\u001B[38;5;241m=\u001B[39mreal_timeout\n\u001B[1;32m    705\u001B[0m     )\n\u001B[1;32m    706\u001B[0m \u001B[38;5;28;01mexcept\u001B[39;00m asyncio\u001B[38;5;241m.\u001B[39mTimeoutError \u001B[38;5;28;01mas\u001B[39;00m exc:\n",
      "File \u001B[0;32m~/Projects/qit-practice/.venv/lib/python3.12/site-packages/aiohttp/connector.py:548\u001B[0m, in \u001B[0;36mBaseConnector.connect\u001B[0;34m(self, req, traces, timeout)\u001B[0m\n\u001B[1;32m    547\u001B[0m         \u001B[38;5;28;01mawait\u001B[39;00m trace\u001B[38;5;241m.\u001B[39msend_connection_create_start()\n\u001B[0;32m--> 548\u001B[0m proto \u001B[38;5;241m=\u001B[39m \u001B[38;5;28;01mawait\u001B[39;00m \u001B[38;5;28mself\u001B[39m\u001B[38;5;241m.\u001B[39m_create_connection(req, traces, timeout)\n\u001B[1;32m    549\u001B[0m \u001B[38;5;28;01mif\u001B[39;00m traces:\n",
      "File \u001B[0;32m~/Projects/qit-practice/.venv/lib/python3.12/site-packages/aiohttp/connector.py:1056\u001B[0m, in \u001B[0;36mTCPConnector._create_connection\u001B[0;34m(self, req, traces, timeout)\u001B[0m\n\u001B[1;32m   1055\u001B[0m \u001B[38;5;28;01melse\u001B[39;00m:\n\u001B[0;32m-> 1056\u001B[0m     _, proto \u001B[38;5;241m=\u001B[39m \u001B[38;5;28;01mawait\u001B[39;00m \u001B[38;5;28mself\u001B[39m\u001B[38;5;241m.\u001B[39m_create_direct_connection(req, traces, timeout)\n\u001B[1;32m   1058\u001B[0m \u001B[38;5;28;01mreturn\u001B[39;00m proto\n",
      "File \u001B[0;32m~/Projects/qit-practice/.venv/lib/python3.12/site-packages/aiohttp/connector.py:1400\u001B[0m, in \u001B[0;36mTCPConnector._create_direct_connection\u001B[0;34m(self, req, traces, timeout, client_error)\u001B[0m\n\u001B[1;32m   1399\u001B[0m \u001B[38;5;28;01massert\u001B[39;00m last_exc \u001B[38;5;129;01mis\u001B[39;00m \u001B[38;5;129;01mnot\u001B[39;00m \u001B[38;5;28;01mNone\u001B[39;00m\n\u001B[0;32m-> 1400\u001B[0m \u001B[38;5;28;01mraise\u001B[39;00m last_exc\n",
      "File \u001B[0;32m~/Projects/qit-practice/.venv/lib/python3.12/site-packages/aiohttp/connector.py:1369\u001B[0m, in \u001B[0;36mTCPConnector._create_direct_connection\u001B[0;34m(self, req, traces, timeout, client_error)\u001B[0m\n\u001B[1;32m   1368\u001B[0m \u001B[38;5;28;01mtry\u001B[39;00m:\n\u001B[0;32m-> 1369\u001B[0m     transp, proto \u001B[38;5;241m=\u001B[39m \u001B[38;5;28;01mawait\u001B[39;00m \u001B[38;5;28mself\u001B[39m\u001B[38;5;241m.\u001B[39m_wrap_create_connection(\n\u001B[1;32m   1370\u001B[0m         \u001B[38;5;28mself\u001B[39m\u001B[38;5;241m.\u001B[39m_factory,\n\u001B[1;32m   1371\u001B[0m         timeout\u001B[38;5;241m=\u001B[39mtimeout,\n\u001B[1;32m   1372\u001B[0m         ssl\u001B[38;5;241m=\u001B[39msslcontext,\n\u001B[1;32m   1373\u001B[0m         addr_infos\u001B[38;5;241m=\u001B[39maddr_infos,\n\u001B[1;32m   1374\u001B[0m         server_hostname\u001B[38;5;241m=\u001B[39mserver_hostname,\n\u001B[1;32m   1375\u001B[0m         req\u001B[38;5;241m=\u001B[39mreq,\n\u001B[1;32m   1376\u001B[0m         client_error\u001B[38;5;241m=\u001B[39mclient_error,\n\u001B[1;32m   1377\u001B[0m     )\n\u001B[1;32m   1378\u001B[0m \u001B[38;5;28;01mexcept\u001B[39;00m (ClientConnectorError, asyncio\u001B[38;5;241m.\u001B[39mTimeoutError) \u001B[38;5;28;01mas\u001B[39;00m exc:\n",
      "File \u001B[0;32m~/Projects/qit-practice/.venv/lib/python3.12/site-packages/aiohttp/connector.py:1124\u001B[0m, in \u001B[0;36mTCPConnector._wrap_create_connection\u001B[0;34m(self, addr_infos, req, timeout, client_error, *args, **kwargs)\u001B[0m\n\u001B[1;32m   1123\u001B[0m \u001B[38;5;28;01mexcept\u001B[39;00m cert_errors \u001B[38;5;28;01mas\u001B[39;00m exc:\n\u001B[0;32m-> 1124\u001B[0m     \u001B[38;5;28;01mraise\u001B[39;00m ClientConnectorCertificateError(req\u001B[38;5;241m.\u001B[39mconnection_key, exc) \u001B[38;5;28;01mfrom\u001B[39;00m\u001B[38;5;250m \u001B[39m\u001B[38;5;21;01mexc\u001B[39;00m\n\u001B[1;32m   1125\u001B[0m \u001B[38;5;28;01mexcept\u001B[39;00m ssl_errors \u001B[38;5;28;01mas\u001B[39;00m exc:\n",
      "\u001B[0;31mClientConnectorCertificateError\u001B[0m: Cannot connect to host cloud.pennylane.ai:443 ssl:True [SSLCertVerificationError: (1, '[SSL: CERTIFICATE_VERIFY_FAILED] certificate verify failed: unable to get local issuer certificate (_ssl.c:1000)')]",
      "\nThe above exception was the direct cause of the following exception:\n",
      "\u001B[0;31mFileNotFoundError\u001B[0m                         Traceback (most recent call last)",
      "Cell \u001B[0;32mIn[6], line 6\u001B[0m\n\u001B[1;32m      3\u001B[0m \u001B[38;5;28;01mfrom\u001B[39;00m\u001B[38;5;250m \u001B[39m\u001B[38;5;21;01mpennylane\u001B[39;00m\u001B[38;5;250m \u001B[39m\u001B[38;5;28;01mimport\u001B[39;00m qchem\n\u001B[1;32m      5\u001B[0m \u001B[38;5;66;03m# Import the H2 molecule dataset\u001B[39;00m\n\u001B[0;32m----> 6\u001B[0m dataset \u001B[38;5;241m=\u001B[39m \u001B[43mqml\u001B[49m\u001B[38;5;241;43m.\u001B[39;49m\u001B[43mdata\u001B[49m\u001B[38;5;241;43m.\u001B[39;49m\u001B[43mload\u001B[49m\u001B[43m(\u001B[49m\u001B[38;5;124;43m'\u001B[39;49m\u001B[38;5;124;43mqchem\u001B[39;49m\u001B[38;5;124;43m'\u001B[39;49m\u001B[43m,\u001B[49m\u001B[43m \u001B[49m\u001B[43mfolder_path\u001B[49m\u001B[38;5;241;43m=\u001B[39;49m\u001B[38;5;124;43m\"\u001B[39;49m\u001B[38;5;124;43m/tmp\u001B[39;49m\u001B[38;5;124;43m\"\u001B[39;49m\u001B[43m,\u001B[49m\u001B[43m \u001B[49m\u001B[43mmolname\u001B[49m\u001B[38;5;241;43m=\u001B[39;49m\u001B[38;5;124;43m\"\u001B[39;49m\u001B[38;5;124;43mH2\u001B[39;49m\u001B[38;5;124;43m\"\u001B[39;49m\u001B[43m)\u001B[49m[\u001B[38;5;241m0\u001B[39m]\n\u001B[1;32m      7\u001B[0m \u001B[38;5;66;03m# Define Hamiltonian and qubits\u001B[39;00m\n\u001B[1;32m      8\u001B[0m H, qubits \u001B[38;5;241m=\u001B[39m dataset\u001B[38;5;241m.\u001B[39mhamiltonian, \u001B[38;5;28mlen\u001B[39m(dataset\u001B[38;5;241m.\u001B[39mhamiltonian\u001B[38;5;241m.\u001B[39mwires)\n",
      "File \u001B[0;32m~/Projects/qit-practice/.venv/lib/python3.12/site-packages/pennylane/data/data_manager/__init__.py:371\u001B[0m, in \u001B[0;36mload\u001B[0;34m(data_name, attributes, folder_path, force, num_threads, block_size, progress_bar, **params)\u001B[0m\n\u001B[1;32m    358\u001B[0m         download_paths \u001B[38;5;241m=\u001B[39m _download_datasets(\n\u001B[1;32m    359\u001B[0m             data_name,\n\u001B[1;32m    360\u001B[0m             folder_path,\n\u001B[0;32m   (...)\u001B[0m\n\u001B[1;32m    367\u001B[0m             pbar\u001B[38;5;241m=\u001B[39mpbar,\n\u001B[1;32m    368\u001B[0m         )\n\u001B[1;32m    370\u001B[0m \u001B[38;5;28;01melse\u001B[39;00m:\n\u001B[0;32m--> 371\u001B[0m     download_paths \u001B[38;5;241m=\u001B[39m \u001B[43m_download_datasets\u001B[49m\u001B[43m(\u001B[49m\n\u001B[1;32m    372\u001B[0m \u001B[43m        \u001B[49m\u001B[43mdata_name\u001B[49m\u001B[43m,\u001B[49m\n\u001B[1;32m    373\u001B[0m \u001B[43m        \u001B[49m\u001B[43mfolder_path\u001B[49m\u001B[43m,\u001B[49m\n\u001B[1;32m    374\u001B[0m \u001B[43m        \u001B[49m\u001B[43mdataset_urls\u001B[49m\u001B[43m,\u001B[49m\n\u001B[1;32m    375\u001B[0m \u001B[43m        \u001B[49m\u001B[43mdataset_ids\u001B[49m\u001B[43m,\u001B[49m\n\u001B[1;32m    376\u001B[0m \u001B[43m        \u001B[49m\u001B[43mattributes\u001B[49m\u001B[43m,\u001B[49m\n\u001B[1;32m    377\u001B[0m \u001B[43m        \u001B[49m\u001B[43mforce\u001B[49m\u001B[38;5;241;43m=\u001B[39;49m\u001B[43mforce\u001B[49m\u001B[43m,\u001B[49m\n\u001B[1;32m    378\u001B[0m \u001B[43m        \u001B[49m\u001B[43mblock_size\u001B[49m\u001B[38;5;241;43m=\u001B[39;49m\u001B[43mblock_size\u001B[49m\u001B[43m,\u001B[49m\n\u001B[1;32m    379\u001B[0m \u001B[43m        \u001B[49m\u001B[43mnum_threads\u001B[49m\u001B[38;5;241;43m=\u001B[39;49m\u001B[43mnum_threads\u001B[49m\u001B[43m,\u001B[49m\n\u001B[1;32m    380\u001B[0m \u001B[43m        \u001B[49m\u001B[43mpbar\u001B[49m\u001B[38;5;241;43m=\u001B[39;49m\u001B[38;5;28;43;01mNone\u001B[39;49;00m\u001B[43m,\u001B[49m\n\u001B[1;32m    381\u001B[0m \u001B[43m    \u001B[49m\u001B[43m)\u001B[49m\n\u001B[1;32m    383\u001B[0m \u001B[38;5;28;01mreturn\u001B[39;00m [Dataset\u001B[38;5;241m.\u001B[39mopen(path, \u001B[38;5;124m\"\u001B[39m\u001B[38;5;124ma\u001B[39m\u001B[38;5;124m\"\u001B[39m) \u001B[38;5;28;01mfor\u001B[39;00m path \u001B[38;5;129;01min\u001B[39;00m download_paths]\n",
      "File \u001B[0;32m~/Projects/qit-practice/.venv/lib/python3.12/site-packages/pennylane/data/data_manager/__init__.py:215\u001B[0m, in \u001B[0;36m_download_datasets\u001B[0;34m(data_name, folder_path, dataset_urls, dataset_ids, attributes, force, block_size, num_threads, pbar)\u001B[0m\n\u001B[1;32m    213\u001B[0m         \u001B[38;5;28;01mfor\u001B[39;00m result \u001B[38;5;129;01min\u001B[39;00m futures\u001B[38;5;241m.\u001B[39mwait(futs, return_when\u001B[38;5;241m=\u001B[39mfutures\u001B[38;5;241m.\u001B[39mFIRST_EXCEPTION)\u001B[38;5;241m.\u001B[39mdone:\n\u001B[1;32m    214\u001B[0m             \u001B[38;5;28;01mif\u001B[39;00m result\u001B[38;5;241m.\u001B[39mexception() \u001B[38;5;129;01mis\u001B[39;00m \u001B[38;5;129;01mnot\u001B[39;00m \u001B[38;5;28;01mNone\u001B[39;00m:\n\u001B[0;32m--> 215\u001B[0m                 \u001B[38;5;28;01mraise\u001B[39;00m result\u001B[38;5;241m.\u001B[39mexception()\n\u001B[1;32m    217\u001B[0m \u001B[38;5;28;01mreturn\u001B[39;00m dest_paths\n",
      "File \u001B[0;32m/Library/Frameworks/Python.framework/Versions/3.12/lib/python3.12/concurrent/futures/thread.py:58\u001B[0m, in \u001B[0;36m_WorkItem.run\u001B[0;34m(self)\u001B[0m\n\u001B[1;32m     55\u001B[0m     \u001B[38;5;28;01mreturn\u001B[39;00m\n\u001B[1;32m     57\u001B[0m \u001B[38;5;28;01mtry\u001B[39;00m:\n\u001B[0;32m---> 58\u001B[0m     result \u001B[38;5;241m=\u001B[39m \u001B[38;5;28;43mself\u001B[39;49m\u001B[38;5;241;43m.\u001B[39;49m\u001B[43mfn\u001B[49m\u001B[43m(\u001B[49m\u001B[38;5;241;43m*\u001B[39;49m\u001B[38;5;28;43mself\u001B[39;49m\u001B[38;5;241;43m.\u001B[39;49m\u001B[43margs\u001B[49m\u001B[43m,\u001B[49m\u001B[43m \u001B[49m\u001B[38;5;241;43m*\u001B[39;49m\u001B[38;5;241;43m*\u001B[39;49m\u001B[38;5;28;43mself\u001B[39;49m\u001B[38;5;241;43m.\u001B[39;49m\u001B[43mkwargs\u001B[49m\u001B[43m)\u001B[49m\n\u001B[1;32m     59\u001B[0m \u001B[38;5;28;01mexcept\u001B[39;00m \u001B[38;5;167;01mBaseException\u001B[39;00m \u001B[38;5;28;01mas\u001B[39;00m exc:\n\u001B[1;32m     60\u001B[0m     \u001B[38;5;28mself\u001B[39m\u001B[38;5;241m.\u001B[39mfuture\u001B[38;5;241m.\u001B[39mset_exception(exc)\n",
      "File \u001B[0;32m~/Projects/qit-practice/.venv/lib/python3.12/site-packages/pennylane/data/data_manager/__init__.py:150\u001B[0m, in \u001B[0;36m_download_dataset\u001B[0;34m(dataset_url, dest, attributes, block_size, force, pbar_task)\u001B[0m\n\u001B[1;32m    139\u001B[0m \u001B[38;5;250m\u001B[39m\u001B[38;5;124;03m\"\"\"Downloads the dataset at ``dataset_url`` to ``dest``, optionally downloading\u001B[39;00m\n\u001B[1;32m    140\u001B[0m \u001B[38;5;124;03monly requested attributes. If ``attributes`` is not provided, every attribute\u001B[39;00m\n\u001B[1;32m    141\u001B[0m \u001B[38;5;124;03mwill be requested.\u001B[39;00m\n\u001B[0;32m   (...)\u001B[0m\n\u001B[1;32m    146\u001B[0m \u001B[38;5;124;03mIf ``pbar_task`` is provided, it will be updated with the download progress.\u001B[39;00m\n\u001B[1;32m    147\u001B[0m \u001B[38;5;124;03m\"\"\"\u001B[39;00m\n\u001B[1;32m    149\u001B[0m \u001B[38;5;28;01mif\u001B[39;00m attributes \u001B[38;5;129;01mis\u001B[39;00m \u001B[38;5;129;01mnot\u001B[39;00m \u001B[38;5;28;01mNone\u001B[39;00m \u001B[38;5;129;01mor\u001B[39;00m dest\u001B[38;5;241m.\u001B[39mexists():\n\u001B[0;32m--> 150\u001B[0m     \u001B[43m_download_partial\u001B[49m\u001B[43m(\u001B[49m\n\u001B[1;32m    151\u001B[0m \u001B[43m        \u001B[49m\u001B[43mdataset_url\u001B[49m\u001B[43m,\u001B[49m\n\u001B[1;32m    152\u001B[0m \u001B[43m        \u001B[49m\u001B[43mdest\u001B[49m\u001B[38;5;241;43m=\u001B[39;49m\u001B[43mdest\u001B[49m\u001B[43m,\u001B[49m\n\u001B[1;32m    153\u001B[0m \u001B[43m        \u001B[49m\u001B[43mattributes\u001B[49m\u001B[38;5;241;43m=\u001B[39;49m\u001B[43mattributes\u001B[49m\u001B[43m,\u001B[49m\n\u001B[1;32m    154\u001B[0m \u001B[43m        \u001B[49m\u001B[43moverwrite\u001B[49m\u001B[38;5;241;43m=\u001B[39;49m\u001B[43mforce\u001B[49m\u001B[43m,\u001B[49m\n\u001B[1;32m    155\u001B[0m \u001B[43m        \u001B[49m\u001B[43mblock_size\u001B[49m\u001B[38;5;241;43m=\u001B[39;49m\u001B[43mblock_size\u001B[49m\u001B[43m,\u001B[49m\n\u001B[1;32m    156\u001B[0m \u001B[43m        \u001B[49m\u001B[43mpbar_task\u001B[49m\u001B[38;5;241;43m=\u001B[39;49m\u001B[43mpbar_task\u001B[49m\u001B[43m,\u001B[49m\n\u001B[1;32m    157\u001B[0m \u001B[43m    \u001B[49m\u001B[43m)\u001B[49m\n\u001B[1;32m    158\u001B[0m \u001B[38;5;28;01melse\u001B[39;00m:\n\u001B[1;32m    159\u001B[0m     _download_full(dataset_url, dest\u001B[38;5;241m=\u001B[39mdest, block_size\u001B[38;5;241m=\u001B[39mblock_size, pbar_task\u001B[38;5;241m=\u001B[39mpbar_task)\n",
      "File \u001B[0;32m~/Projects/qit-practice/.venv/lib/python3.12/site-packages/pennylane/data/data_manager/__init__.py:94\u001B[0m, in \u001B[0;36m_download_partial\u001B[0;34m(s3_url, dest, attributes, overwrite, block_size, pbar_task)\u001B[0m\n\u001B[1;32m     92\u001B[0m     attributes_to_fetch\u001B[38;5;241m.\u001B[39mupdate(attributes)\n\u001B[1;32m     93\u001B[0m \u001B[38;5;28;01melse\u001B[39;00m:\n\u001B[0;32m---> 94\u001B[0m     remote_dataset \u001B[38;5;241m=\u001B[39m Dataset(\u001B[43mopen_hdf5_s3\u001B[49m\u001B[43m(\u001B[49m\u001B[43ms3_url\u001B[49m\u001B[43m,\u001B[49m\u001B[43m \u001B[49m\u001B[43mblock_size\u001B[49m\u001B[38;5;241;43m=\u001B[39;49m\u001B[43mblock_size\u001B[49m\u001B[43m)\u001B[49m)\n\u001B[1;32m     95\u001B[0m     attributes_to_fetch\u001B[38;5;241m.\u001B[39mupdate(remote_dataset\u001B[38;5;241m.\u001B[39mattrs)\n\u001B[1;32m     97\u001B[0m \u001B[38;5;28;01mif\u001B[39;00m \u001B[38;5;129;01mnot\u001B[39;00m overwrite:\n",
      "File \u001B[0;32m~/Projects/qit-practice/.venv/lib/python3.12/site-packages/pennylane/data/base/hdf5.py:114\u001B[0m, in \u001B[0;36mopen_hdf5_s3\u001B[0;34m(s3_url, block_size)\u001B[0m\n\u001B[1;32m    111\u001B[0m memory_cache_args \u001B[38;5;241m=\u001B[39m {\u001B[38;5;124m\"\u001B[39m\u001B[38;5;124mcache_type\u001B[39m\u001B[38;5;124m\"\u001B[39m: \u001B[38;5;124m\"\u001B[39m\u001B[38;5;124mmmap\u001B[39m\u001B[38;5;124m\"\u001B[39m, \u001B[38;5;124m\"\u001B[39m\u001B[38;5;124mblock_size\u001B[39m\u001B[38;5;124m\"\u001B[39m: block_size}\n\u001B[1;32m    112\u001B[0m fs \u001B[38;5;241m=\u001B[39m fsspec\u001B[38;5;241m.\u001B[39mopen(s3_url, \u001B[38;5;241m*\u001B[39m\u001B[38;5;241m*\u001B[39mmemory_cache_args)\n\u001B[0;32m--> 114\u001B[0m \u001B[38;5;28;01mreturn\u001B[39;00m h5py\u001B[38;5;241m.\u001B[39mFile(\u001B[43mfs\u001B[49m\u001B[38;5;241;43m.\u001B[39;49m\u001B[43mopen\u001B[49m\u001B[43m(\u001B[49m\u001B[43m)\u001B[49m)\n",
      "File \u001B[0;32m~/Projects/qit-practice/.venv/lib/python3.12/site-packages/fsspec/core.py:147\u001B[0m, in \u001B[0;36mOpenFile.open\u001B[0;34m(self)\u001B[0m\n\u001B[1;32m    140\u001B[0m \u001B[38;5;28;01mdef\u001B[39;00m\u001B[38;5;250m \u001B[39m\u001B[38;5;21mopen\u001B[39m(\u001B[38;5;28mself\u001B[39m):\n\u001B[1;32m    141\u001B[0m \u001B[38;5;250m    \u001B[39m\u001B[38;5;124;03m\"\"\"Materialise this as a real open file without context\u001B[39;00m\n\u001B[1;32m    142\u001B[0m \n\u001B[1;32m    143\u001B[0m \u001B[38;5;124;03m    The OpenFile object should be explicitly closed to avoid enclosed file\u001B[39;00m\n\u001B[1;32m    144\u001B[0m \u001B[38;5;124;03m    instances persisting. You must, therefore, keep a reference to the OpenFile\u001B[39;00m\n\u001B[1;32m    145\u001B[0m \u001B[38;5;124;03m    during the life of the file-like it generates.\u001B[39;00m\n\u001B[1;32m    146\u001B[0m \u001B[38;5;124;03m    \"\"\"\u001B[39;00m\n\u001B[0;32m--> 147\u001B[0m     \u001B[38;5;28;01mreturn\u001B[39;00m \u001B[38;5;28;43mself\u001B[39;49m\u001B[38;5;241;43m.\u001B[39;49m\u001B[38;5;21;43m__enter__\u001B[39;49m\u001B[43m(\u001B[49m\u001B[43m)\u001B[49m\n",
      "File \u001B[0;32m~/Projects/qit-practice/.venv/lib/python3.12/site-packages/fsspec/core.py:105\u001B[0m, in \u001B[0;36mOpenFile.__enter__\u001B[0;34m(self)\u001B[0m\n\u001B[1;32m    102\u001B[0m mode \u001B[38;5;241m=\u001B[39m \u001B[38;5;28mself\u001B[39m\u001B[38;5;241m.\u001B[39mmode\u001B[38;5;241m.\u001B[39mreplace(\u001B[38;5;124m\"\u001B[39m\u001B[38;5;124mt\u001B[39m\u001B[38;5;124m\"\u001B[39m, \u001B[38;5;124m\"\u001B[39m\u001B[38;5;124m\"\u001B[39m)\u001B[38;5;241m.\u001B[39mreplace(\u001B[38;5;124m\"\u001B[39m\u001B[38;5;124mb\u001B[39m\u001B[38;5;124m\"\u001B[39m, \u001B[38;5;124m\"\u001B[39m\u001B[38;5;124m\"\u001B[39m) \u001B[38;5;241m+\u001B[39m \u001B[38;5;124m\"\u001B[39m\u001B[38;5;124mb\u001B[39m\u001B[38;5;124m\"\u001B[39m\n\u001B[1;32m    104\u001B[0m \u001B[38;5;28;01mtry\u001B[39;00m:\n\u001B[0;32m--> 105\u001B[0m     f \u001B[38;5;241m=\u001B[39m \u001B[38;5;28;43mself\u001B[39;49m\u001B[38;5;241;43m.\u001B[39;49m\u001B[43mfs\u001B[49m\u001B[38;5;241;43m.\u001B[39;49m\u001B[43mopen\u001B[49m\u001B[43m(\u001B[49m\u001B[38;5;28;43mself\u001B[39;49m\u001B[38;5;241;43m.\u001B[39;49m\u001B[43mpath\u001B[49m\u001B[43m,\u001B[49m\u001B[43m \u001B[49m\u001B[43mmode\u001B[49m\u001B[38;5;241;43m=\u001B[39;49m\u001B[43mmode\u001B[49m\u001B[43m)\u001B[49m\n\u001B[1;32m    106\u001B[0m \u001B[38;5;28;01mexcept\u001B[39;00m \u001B[38;5;167;01mFileNotFoundError\u001B[39;00m \u001B[38;5;28;01mas\u001B[39;00m e:\n\u001B[1;32m    107\u001B[0m     \u001B[38;5;28;01mif\u001B[39;00m has_magic(\u001B[38;5;28mself\u001B[39m\u001B[38;5;241m.\u001B[39mpath):\n",
      "File \u001B[0;32m~/Projects/qit-practice/.venv/lib/python3.12/site-packages/fsspec/spec.py:1310\u001B[0m, in \u001B[0;36mAbstractFileSystem.open\u001B[0;34m(self, path, mode, block_size, cache_options, compression, **kwargs)\u001B[0m\n\u001B[1;32m   1308\u001B[0m \u001B[38;5;28;01melse\u001B[39;00m:\n\u001B[1;32m   1309\u001B[0m     ac \u001B[38;5;241m=\u001B[39m kwargs\u001B[38;5;241m.\u001B[39mpop(\u001B[38;5;124m\"\u001B[39m\u001B[38;5;124mautocommit\u001B[39m\u001B[38;5;124m\"\u001B[39m, \u001B[38;5;129;01mnot\u001B[39;00m \u001B[38;5;28mself\u001B[39m\u001B[38;5;241m.\u001B[39m_intrans)\n\u001B[0;32m-> 1310\u001B[0m     f \u001B[38;5;241m=\u001B[39m \u001B[38;5;28;43mself\u001B[39;49m\u001B[38;5;241;43m.\u001B[39;49m\u001B[43m_open\u001B[49m\u001B[43m(\u001B[49m\n\u001B[1;32m   1311\u001B[0m \u001B[43m        \u001B[49m\u001B[43mpath\u001B[49m\u001B[43m,\u001B[49m\n\u001B[1;32m   1312\u001B[0m \u001B[43m        \u001B[49m\u001B[43mmode\u001B[49m\u001B[38;5;241;43m=\u001B[39;49m\u001B[43mmode\u001B[49m\u001B[43m,\u001B[49m\n\u001B[1;32m   1313\u001B[0m \u001B[43m        \u001B[49m\u001B[43mblock_size\u001B[49m\u001B[38;5;241;43m=\u001B[39;49m\u001B[43mblock_size\u001B[49m\u001B[43m,\u001B[49m\n\u001B[1;32m   1314\u001B[0m \u001B[43m        \u001B[49m\u001B[43mautocommit\u001B[49m\u001B[38;5;241;43m=\u001B[39;49m\u001B[43mac\u001B[49m\u001B[43m,\u001B[49m\n\u001B[1;32m   1315\u001B[0m \u001B[43m        \u001B[49m\u001B[43mcache_options\u001B[49m\u001B[38;5;241;43m=\u001B[39;49m\u001B[43mcache_options\u001B[49m\u001B[43m,\u001B[49m\n\u001B[1;32m   1316\u001B[0m \u001B[43m        \u001B[49m\u001B[38;5;241;43m*\u001B[39;49m\u001B[38;5;241;43m*\u001B[39;49m\u001B[43mkwargs\u001B[49m\u001B[43m,\u001B[49m\n\u001B[1;32m   1317\u001B[0m \u001B[43m    \u001B[49m\u001B[43m)\u001B[49m\n\u001B[1;32m   1318\u001B[0m     \u001B[38;5;28;01mif\u001B[39;00m compression \u001B[38;5;129;01mis\u001B[39;00m \u001B[38;5;129;01mnot\u001B[39;00m \u001B[38;5;28;01mNone\u001B[39;00m:\n\u001B[1;32m   1319\u001B[0m         \u001B[38;5;28;01mfrom\u001B[39;00m\u001B[38;5;250m \u001B[39m\u001B[38;5;21;01mfsspec\u001B[39;00m\u001B[38;5;21;01m.\u001B[39;00m\u001B[38;5;21;01mcompression\u001B[39;00m\u001B[38;5;250m \u001B[39m\u001B[38;5;28;01mimport\u001B[39;00m compr\n",
      "File \u001B[0;32m~/Projects/qit-practice/.venv/lib/python3.12/site-packages/fsspec/implementations/http.py:366\u001B[0m, in \u001B[0;36mHTTPFileSystem._open\u001B[0;34m(self, path, mode, block_size, autocommit, cache_type, cache_options, size, **kwargs)\u001B[0m\n\u001B[1;32m    364\u001B[0m kw\u001B[38;5;241m.\u001B[39mupdate(kwargs)\n\u001B[1;32m    365\u001B[0m info \u001B[38;5;241m=\u001B[39m {}\n\u001B[0;32m--> 366\u001B[0m size \u001B[38;5;241m=\u001B[39m size \u001B[38;5;129;01mor\u001B[39;00m info\u001B[38;5;241m.\u001B[39mupdate(\u001B[38;5;28;43mself\u001B[39;49m\u001B[38;5;241;43m.\u001B[39;49m\u001B[43minfo\u001B[49m\u001B[43m(\u001B[49m\u001B[43mpath\u001B[49m\u001B[43m,\u001B[49m\u001B[43m \u001B[49m\u001B[38;5;241;43m*\u001B[39;49m\u001B[38;5;241;43m*\u001B[39;49m\u001B[43mkwargs\u001B[49m\u001B[43m)\u001B[49m) \u001B[38;5;129;01mor\u001B[39;00m info[\u001B[38;5;124m\"\u001B[39m\u001B[38;5;124msize\u001B[39m\u001B[38;5;124m\"\u001B[39m]\n\u001B[1;32m    367\u001B[0m session \u001B[38;5;241m=\u001B[39m sync(\u001B[38;5;28mself\u001B[39m\u001B[38;5;241m.\u001B[39mloop, \u001B[38;5;28mself\u001B[39m\u001B[38;5;241m.\u001B[39mset_session)\n\u001B[1;32m    368\u001B[0m \u001B[38;5;28;01mif\u001B[39;00m block_size \u001B[38;5;129;01mand\u001B[39;00m size \u001B[38;5;129;01mand\u001B[39;00m info\u001B[38;5;241m.\u001B[39mget(\u001B[38;5;124m\"\u001B[39m\u001B[38;5;124mpartial\u001B[39m\u001B[38;5;124m\"\u001B[39m, \u001B[38;5;28;01mTrue\u001B[39;00m):\n",
      "File \u001B[0;32m~/Projects/qit-practice/.venv/lib/python3.12/site-packages/fsspec/asyn.py:118\u001B[0m, in \u001B[0;36msync_wrapper.<locals>.wrapper\u001B[0;34m(*args, **kwargs)\u001B[0m\n\u001B[1;32m    115\u001B[0m \u001B[38;5;129m@functools\u001B[39m\u001B[38;5;241m.\u001B[39mwraps(func)\n\u001B[1;32m    116\u001B[0m \u001B[38;5;28;01mdef\u001B[39;00m\u001B[38;5;250m \u001B[39m\u001B[38;5;21mwrapper\u001B[39m(\u001B[38;5;241m*\u001B[39margs, \u001B[38;5;241m*\u001B[39m\u001B[38;5;241m*\u001B[39mkwargs):\n\u001B[1;32m    117\u001B[0m     \u001B[38;5;28mself\u001B[39m \u001B[38;5;241m=\u001B[39m obj \u001B[38;5;129;01mor\u001B[39;00m args[\u001B[38;5;241m0\u001B[39m]\n\u001B[0;32m--> 118\u001B[0m     \u001B[38;5;28;01mreturn\u001B[39;00m \u001B[43msync\u001B[49m\u001B[43m(\u001B[49m\u001B[38;5;28;43mself\u001B[39;49m\u001B[38;5;241;43m.\u001B[39;49m\u001B[43mloop\u001B[49m\u001B[43m,\u001B[49m\u001B[43m \u001B[49m\u001B[43mfunc\u001B[49m\u001B[43m,\u001B[49m\u001B[43m \u001B[49m\u001B[38;5;241;43m*\u001B[39;49m\u001B[43margs\u001B[49m\u001B[43m,\u001B[49m\u001B[43m \u001B[49m\u001B[38;5;241;43m*\u001B[39;49m\u001B[38;5;241;43m*\u001B[39;49m\u001B[43mkwargs\u001B[49m\u001B[43m)\u001B[49m\n",
      "File \u001B[0;32m~/Projects/qit-practice/.venv/lib/python3.12/site-packages/fsspec/asyn.py:103\u001B[0m, in \u001B[0;36msync\u001B[0;34m(loop, func, timeout, *args, **kwargs)\u001B[0m\n\u001B[1;32m    101\u001B[0m     \u001B[38;5;28;01mraise\u001B[39;00m FSTimeoutError \u001B[38;5;28;01mfrom\u001B[39;00m\u001B[38;5;250m \u001B[39m\u001B[38;5;21;01mreturn_result\u001B[39;00m\n\u001B[1;32m    102\u001B[0m \u001B[38;5;28;01melif\u001B[39;00m \u001B[38;5;28misinstance\u001B[39m(return_result, \u001B[38;5;167;01mBaseException\u001B[39;00m):\n\u001B[0;32m--> 103\u001B[0m     \u001B[38;5;28;01mraise\u001B[39;00m return_result\n\u001B[1;32m    104\u001B[0m \u001B[38;5;28;01melse\u001B[39;00m:\n\u001B[1;32m    105\u001B[0m     \u001B[38;5;28;01mreturn\u001B[39;00m return_result\n",
      "File \u001B[0;32m~/Projects/qit-practice/.venv/lib/python3.12/site-packages/fsspec/asyn.py:56\u001B[0m, in \u001B[0;36m_runner\u001B[0;34m(event, coro, result, timeout)\u001B[0m\n\u001B[1;32m     54\u001B[0m     coro \u001B[38;5;241m=\u001B[39m asyncio\u001B[38;5;241m.\u001B[39mwait_for(coro, timeout\u001B[38;5;241m=\u001B[39mtimeout)\n\u001B[1;32m     55\u001B[0m \u001B[38;5;28;01mtry\u001B[39;00m:\n\u001B[0;32m---> 56\u001B[0m     result[\u001B[38;5;241m0\u001B[39m] \u001B[38;5;241m=\u001B[39m \u001B[38;5;28;01mawait\u001B[39;00m coro\n\u001B[1;32m     57\u001B[0m \u001B[38;5;28;01mexcept\u001B[39;00m \u001B[38;5;167;01mException\u001B[39;00m \u001B[38;5;28;01mas\u001B[39;00m ex:\n\u001B[1;32m     58\u001B[0m     result[\u001B[38;5;241m0\u001B[39m] \u001B[38;5;241m=\u001B[39m ex\n",
      "File \u001B[0;32m~/Projects/qit-practice/.venv/lib/python3.12/site-packages/fsspec/implementations/http.py:440\u001B[0m, in \u001B[0;36mHTTPFileSystem._info\u001B[0;34m(self, url, **kwargs)\u001B[0m\n\u001B[1;32m    437\u001B[0m     \u001B[38;5;28;01mexcept\u001B[39;00m \u001B[38;5;167;01mException\u001B[39;00m \u001B[38;5;28;01mas\u001B[39;00m exc:\n\u001B[1;32m    438\u001B[0m         \u001B[38;5;28;01mif\u001B[39;00m policy \u001B[38;5;241m==\u001B[39m \u001B[38;5;124m\"\u001B[39m\u001B[38;5;124mget\u001B[39m\u001B[38;5;124m\"\u001B[39m:\n\u001B[1;32m    439\u001B[0m             \u001B[38;5;66;03m# If get failed, then raise a FileNotFoundError\u001B[39;00m\n\u001B[0;32m--> 440\u001B[0m             \u001B[38;5;28;01mraise\u001B[39;00m \u001B[38;5;167;01mFileNotFoundError\u001B[39;00m(url) \u001B[38;5;28;01mfrom\u001B[39;00m\u001B[38;5;250m \u001B[39m\u001B[38;5;21;01mexc\u001B[39;00m\n\u001B[1;32m    441\u001B[0m         logger\u001B[38;5;241m.\u001B[39mdebug(\u001B[38;5;124m\"\u001B[39m\u001B[38;5;124m\"\u001B[39m, exc_info\u001B[38;5;241m=\u001B[39mexc)\n\u001B[1;32m    443\u001B[0m \u001B[38;5;28;01mreturn\u001B[39;00m {\u001B[38;5;124m\"\u001B[39m\u001B[38;5;124mname\u001B[39m\u001B[38;5;124m\"\u001B[39m: url, \u001B[38;5;124m\"\u001B[39m\u001B[38;5;124msize\u001B[39m\u001B[38;5;124m\"\u001B[39m: \u001B[38;5;28;01mNone\u001B[39;00m, \u001B[38;5;241m*\u001B[39m\u001B[38;5;241m*\u001B[39minfo, \u001B[38;5;124m\"\u001B[39m\u001B[38;5;124mtype\u001B[39m\u001B[38;5;124m\"\u001B[39m: \u001B[38;5;124m\"\u001B[39m\u001B[38;5;124mfile\u001B[39m\u001B[38;5;124m\"\u001B[39m}\n",
      "\u001B[0;31mFileNotFoundError\u001B[0m: https://cloud.pennylane.ai/datasets/v2/download/h2-molecule-h2-sto-3g-0.742-n%5Ca-4"
     ]
    }
   ],
   "execution_count": 6
  },
  {
   "metadata": {},
   "cell_type": "markdown",
   "source": "### Codercise V.2.2.b",
   "id": "7fc0530400f19232"
  },
  {
   "metadata": {},
   "cell_type": "code",
   "outputs": [],
   "execution_count": null,
   "source": "",
   "id": "ab579f0bf0bb4181"
  }
 ],
 "metadata": {
  "kernelspec": {
   "display_name": "Python 3",
   "language": "python",
   "name": "python3"
  },
  "language_info": {
   "codemirror_mode": {
    "name": "ipython",
    "version": 2
   },
   "file_extension": ".py",
   "mimetype": "text/x-python",
   "name": "python",
   "nbconvert_exporter": "python",
   "pygments_lexer": "ipython2",
   "version": "2.7.6"
  }
 },
 "nbformat": 4,
 "nbformat_minor": 5
}
