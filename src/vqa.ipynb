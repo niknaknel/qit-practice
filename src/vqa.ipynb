{
 "cells": [
  {
   "metadata": {},
   "cell_type": "markdown",
   "source": [
    "## PennyLane: Variational Quantum Algorithms\n",
    "Annika Nel Jan 25\n",
    "\n",
    "## Summary\n",
    "VQA's use a parameterized circuit to solve a problem, where a classical algorithm optimises the parameters.\n",
    "\n",
    "#### Method:\n",
    "1. Choose an ansatz, U(θ) - a quantum circuit parametrized by a set of free parameters θ.\n",
    "2. Measure an observable and compute cost function based on this measurement.\n",
    "3. The free parameters θ are optimized using a classical computer that queries the quantum device.\n",
    "\n",
    "#### How to choose an ansatz?\n",
    "* Problem-inspired: make a good guess based on the problem you are trying to solve\n",
    "* Problem-agnostic: general good guesses - more complex so more difficult to optimize\n",
    "\n",
    "Consider the trade-off between _expressibility_ and _trainability_:\n",
    "* Expressibility: quantifies the range of functions that the quantum circuit can describe. High entanglement + more parameters = high expressibility\n",
    "* Trainability: how easy it is to find the optimal parameters. Harder with more complexity, i.e. higher expressibility.\n",
    "\n",
    "#### Cost function\n",
    "* Normally defined as the expectation value of some observable $\\hat{M}$:\n",
    "$$ C(\\overrightarrow{\\theta}) = \\bra{0} U^{\\dagger}(\\overrightarrow{\\theta}) \\hat{M}  U(\\overrightarrow{\\theta}) \\ket{0}  $$\n",
    "* Gradient descent: We can find the gradient of a circuit by calculating the expectation value, then shifting the parameters and caculating it again\n",
    "\n",
    "#### Limitations\n",
    "* Optimization challenges: landscape of the cost function - many VQAs present a high-dimensional parameter space with Barren Plateaus (difficult for gradient descent)\n",
    "* Complexity and scalability challenges: Difficult to characterize the time complexity of VQA's. Insights into time efficiency are often heuristic rather than definitive. Without mathematical proof of advantage and the ability to conduct large-scale experiments, potential for quantum advantage remains an open question.\n",
    "\n",
    "## My questions\n",
    "* How could Bayesian optimization come into play here? Can it even simulate the QC effectively?\n",
    "* Since barren plateaus are a problem, could parallelized computational intelligence techniques provide any benefit?\n",
    "\n",
    "--- "
   ],
   "id": "2478c30e70742daf"
  },
  {
   "cell_type": "code",
   "id": "initial_id",
   "metadata": {
    "collapsed": true,
    "ExecuteTime": {
     "end_time": "2025-01-30T00:01:50.246236Z",
     "start_time": "2025-01-30T00:01:46.847248Z"
    }
   },
   "source": [
    "import pennylane as qml\n",
    "from pennylane import numpy as np\n",
    "from pennylane.data.data_manager import params\n",
    "import matplotlib.pyplot as plt"
   ],
   "outputs": [],
   "execution_count": 1
  },
  {
   "metadata": {},
   "cell_type": "markdown",
   "source": "### Codercise V.1.1",
   "id": "4fd0dabb7db6eefe"
  },
  {
   "metadata": {
    "ExecuteTime": {
     "end_time": "2025-01-30T00:01:52.852286Z",
     "start_time": "2025-01-30T00:01:52.846183Z"
    }
   },
   "cell_type": "code",
   "source": [
    "n_bits = 4\n",
    "dev = qml.device(\"default.qubit\", wires=n_bits)\n",
    "\n",
    "@qml.qnode(dev)\n",
    "def basic_entangling_ansatz(observable,params):\n",
    "    \"\"\"Applies an ansatz with basic entanglement.\n",
    "\n",
    "    Args:\n",
    "        observable (qml.op): a pennylane operator whose expectation value we want to measure.\n",
    "        params(np.array): an array with the trainable parameters of the ansatz. They have the shape of `qml.StronglyEntanglingLayers.shape(n_layers=1, n_wires=n_bits)`\n",
    "\n",
    "    Returns:\n",
    "        (np.tensor): a numpy tensor of 1 element corresponding to the expectation value of the given observable.\n",
    "    \"\"\"\n",
    "    ##################\n",
    "    # YOUR CODE HERE #\n",
    "    ##################\n",
    "    for i in range(n_bits):\n",
    "        qml.RX(params[0][i],wires=i)\n",
    "    for i in range(1, n_bits):\n",
    "        qml.CNOT(wires=[i-1, i])\n",
    "    qml.CNOT(wires=[n_bits-1, 0])\n",
    "\n",
    "    return qml.expval(observable)\n",
    "\n",
    "\n",
    "@qml.qnode(dev)\n",
    "def strongly_entangling_ansatz(observable,params):\n",
    "    \"\"\"Applies an ansatz with moderate entanglement.\n",
    "\n",
    "    Args:\n",
    "        observable (qml.op): a pennylane operator whose expectation value we want to measure.\n",
    "        params(np.array): an array with the trainable parameters of the ansatz. They have the shape of `qml.StronglyEntanglingLayers.shape(n_layers=1, n_wires=n_bits)`\n",
    "\n",
    "    Returns:\n",
    "        (np.tensor): a numpy tensor of 1 element corresponding to the expectation value of the given observable.\n",
    "    \"\"\"\n",
    "    ##################\n",
    "    # YOUR CODE HERE #\n",
    "    ##################\n",
    "    for i in range(n_bits):\n",
    "        qml.Rot(params[0][i][0],params[0][i][1],params[0][i][2],wires=i)\n",
    "    qml.CNOT(wires=[0, n_bits-1])\n",
    "    for i in range(1, n_bits):\n",
    "        qml.CNOT(wires=[i, i-1])\n",
    "\n",
    "    return qml.expval(observable)\n"
   ],
   "id": "d423fe2d35574a77",
   "outputs": [],
   "execution_count": 2
  },
  {
   "metadata": {},
   "cell_type": "markdown",
   "source": "### Codercise V.1.2.a",
   "id": "b15bccce52287053"
  },
  {
   "metadata": {
    "ExecuteTime": {
     "end_time": "2025-01-30T00:01:54.608176Z",
     "start_time": "2025-01-30T00:01:54.603189Z"
    }
   },
   "cell_type": "code",
   "source": [
    "dev = qml.device('default.qubit', wires=1)\n",
    "# Define the quantum circuit with a parameterized RY gate\n",
    "@qml.qnode(dev)\n",
    "def circuit_to_differentiate(theta):\n",
    "    \"\"\"Quantum circuit we want to differentiate.\n",
    "\n",
    "    Args:\n",
    "        theta (float): parameter of the circuit with respect to which we differentiate.\n",
    "\n",
    "    Returns:\n",
    "        (np.tensor): a numpy tensor of 1 element corresponding to the expectation value of Z\n",
    "    \"\"\"\n",
    "    ##################\n",
    "    # YOUR CODE HERE #\n",
    "    ##################\n",
    "    qml.RY(theta, wires=0)\n",
    "    return qml.expval(qml.Z(wires=0))\n",
    "\n",
    "# Define the parameter-shift rule function\n",
    "def parameter_shift_rule(theta):\n",
    "    \"\"\"Function that applies the parameter shift rule to `circuit_to_differentiate` with respect to the parameter theta.\n",
    "\n",
    "    Args:\n",
    "        theta (float): parameter of the circuit with respect to which we differentiate.\n",
    "\n",
    "    Returns:\n",
    "        (np.tensor): a numpy tensor of 1 element corresponding to the derivative of the circuit with respect to theta.\n",
    "    \"\"\"    \n",
    "    ##################\n",
    "    # YOUR CODE HERE #\n",
    "    ##################\n",
    "    f = lambda th: circuit_to_differentiate(th)\n",
    "\n",
    "    return 0.5 * (f(theta + np.pi/2) - f(theta - np.pi/2))\n"
   ],
   "id": "2961ea72d4cf1b28",
   "outputs": [],
   "execution_count": 3
  },
  {
   "metadata": {},
   "cell_type": "markdown",
   "source": "### Codercise V.1.2.b",
   "id": "54ca2416ec749c09"
  },
  {
   "metadata": {
    "ExecuteTime": {
     "end_time": "2025-01-30T00:01:56.511559Z",
     "start_time": "2025-01-30T00:01:56.508349Z"
    }
   },
   "cell_type": "code",
   "source": [
    "# Define the built-in parameter-shift rule function\n",
    "def parameter_shift_rule_built_in(circuit, theta):\n",
    "    \"\"\"Function that applies the PennyLane built-in parameter shift rule to a specific circuit with respect to the parameter theta.\n",
    "\n",
    "    Args:\n",
    "        circuit (qml.QNode): quantum circuit we want to differentiate.\n",
    "        theta (float): parameter of the circuit with respect to which we differentiate.\n",
    "\n",
    "    Returns:\n",
    "        (np.tensor): a numpy tensor of 1 element corresponding to the derivative of the circuit with respect to theta.\n",
    "    \"\"\"  \n",
    "    ##################\n",
    "    # YOUR CODE HERE #\n",
    "    ##################\n",
    "    return qml.gradients.param_shift(circuit)(theta)\n",
    "\n",
    "# Define the built-in classical_jacobian function\n",
    "def jacobian_built_in(circuit, theta):\n",
    "    \"\"\"Function that applies the PennyLane built-in jacobian method to a specific circuit with respect to the parameter theta.\n",
    "\n",
    "    Args:\n",
    "        circuit (qml.QNode): quantum circuit we want to differentiate.\n",
    "        theta (float): parameter of the circuit with respect to which we differentiate.\n",
    "\n",
    "    Returns:\n",
    "        (np.tensor): a numpy tensor of 1 element corresponding to the derivative of the circuit with respect to theta.\n",
    "    \"\"\"  \n",
    "    ##################\n",
    "    # YOUR CODE HERE #\n",
    "    ################## \n",
    "    return qml.jacobian(circuit)(theta)\n",
    "    \n"
   ],
   "id": "7298b1e2ffc6559d",
   "outputs": [],
   "execution_count": 4
  },
  {
   "metadata": {},
   "cell_type": "markdown",
   "source": "### Codercise V.1.3.a",
   "id": "9d17b356b6655d"
  },
  {
   "metadata": {
    "ExecuteTime": {
     "end_time": "2025-01-30T00:01:58.106861Z",
     "start_time": "2025-01-30T00:01:58.021413Z"
    }
   },
   "cell_type": "code",
   "source": [
    "dev = qml.device('default.qubit', wires=1)\n",
    "# Define the quantum circuit with a parameterized RY gate\n",
    "\n",
    "@qml.qnode(dev)\n",
    "def circuit(theta):\n",
    "    \"\"\"Quantum circuit we want to differentiate.\n",
    "\n",
    "    Args:\n",
    "        theta (float): parameter of the circuit with respect to which we differentiate.\n",
    "\n",
    "    Returns:\n",
    "        (np.tensor): a numpy tensor of 1 element corresponding to the expectation value of Z\n",
    "    \"\"\"\n",
    "    ##################\n",
    "    # YOUR CODE HERE #\n",
    "    ##################\n",
    "    qml.RY(theta, wires=0)\n",
    "    return qml.expval(qml.Z(wires=0))\n",
    "\n",
    "def gradient_descent_optimization(quantum_circuit, initial_theta, learning_rate, max_iterations):\n",
    "    \"\"\"\n",
    "    Performs Gradient Descent optimization to find the optimal parameter theta\n",
    "    for a quantum circuit to minimize its output expectation value.\n",
    "\n",
    "    Args:\n",
    "        quantum_circuit (qml.QNode): A quantum circuit that depends of a parameter.\n",
    "        initial_theta (np.array): An array with the initial value of the trainable parameter theta.\n",
    "        learning_rate (float): Learning rate for the gradient descent update.\n",
    "        max_iterations (int): Maximum number of iterations for the optimization.\n",
    "\n",
    "    Returns:\n",
    "        (np.array): A numpy array of 1 element corresponding to the optimized parameter theta.\n",
    "    \"\"\"\n",
    "    ##################\n",
    "    # YOUR CODE HERE #\n",
    "    ##################\n",
    "    theta = initial_theta\n",
    "    for _ in range(max_iterations):\n",
    "        theta = theta - learning_rate * qml.gradients.param_shift(quantum_circuit)(theta)\n",
    "    return theta\n",
    "    \n",
    "\n",
    "optimized_theta=gradient_descent_optimization(circuit, np.array(0.1, requires_grad=True), 0.3, 50)\n",
    "print(f\"Optimized theta using Gradient Descent: {optimized_theta}\")\n",
    "print(f\"Expectation value of quantum circuit at optimized theta: {circuit(optimized_theta)}\")"
   ],
   "id": "8802846f4d12857d",
   "outputs": [
    {
     "name": "stdout",
     "output_type": "stream",
     "text": [
      "Optimized theta using Gradient Descent: 3.141590464104736\n",
      "Expectation value of quantum circuit at optimized theta: -0.9999999999976031\n"
     ]
    }
   ],
   "execution_count": 5
  },
  {
   "metadata": {},
   "cell_type": "markdown",
   "source": "### Codercise V.1.3.b",
   "id": "29375cc42776353f"
  },
  {
   "metadata": {
    "ExecuteTime": {
     "end_time": "2025-01-30T00:02:01.335941Z",
     "start_time": "2025-01-30T00:02:01.271917Z"
    }
   },
   "cell_type": "code",
   "source": [
    "def gradient_descent_optimization_built_in(quantum_circuit,initial_theta, learning_rate, max_iterations):\n",
    "    \"\"\"\n",
    "    Implements Gradient Descent optimization method of PennyLane to find the optimal parameter theta\n",
    "    for a quantum circuit to minimize its output expectation value.\n",
    "\n",
    "    Args:\n",
    "        quantum_circuit (qml.QNode): A quantum circuit that depends of a parameter.\n",
    "        initial_theta (np.array): An array with the initial value of the trainable parameter theta.\n",
    "        learning_rate (float): Learning rate for the gradient descent update.\n",
    "        max_iterations (int): Maximum number of iterations for the optimization.\n",
    "\n",
    "    Returns:\n",
    "        (np.array): A numpy array of 1 element corresponding to the optimized parameter theta.\n",
    "    \"\"\"\n",
    "    ##################\n",
    "    # YOUR CODE HERE #\n",
    "    ##################\n",
    "    optimizer = qml.GradientDescentOptimizer(learning_rate)\n",
    "    theta = initial_theta\n",
    "\n",
    "    for _ in range(max_iterations):\n",
    "        theta = optimizer.step(quantum_circuit, theta)\n",
    "\n",
    "    return theta\n",
    "    \n",
    "optimized_theta=gradient_descent_optimization_built_in(circuit,np.array(0.1,requires_grad=True), 0.3, 50)\n",
    "print(f\"Optimized theta using built-in Gradient Descent: {optimized_theta}\")\n",
    "print(f\"Expectation value of quantum circuit at optimized theta: {circuit(optimized_theta)}\")\n",
    "\n"
   ],
   "id": "9fb0f57c51c26c4c",
   "outputs": [
    {
     "name": "stdout",
     "output_type": "stream",
     "text": [
      "Optimized theta using built-in Gradient Descent: 3.141590464104736\n",
      "Expectation value of quantum circuit at optimized theta: -0.9999999999976031\n"
     ]
    }
   ],
   "execution_count": 6
  },
  {
   "metadata": {},
   "cell_type": "markdown",
   "source": "### Codercise V.1.4",
   "id": "31ac36eaca2ec9bc"
  },
  {
   "metadata": {
    "ExecuteTime": {
     "end_time": "2025-01-30T00:02:11.100511Z",
     "start_time": "2025-01-30T00:02:11.095549Z"
    }
   },
   "cell_type": "code",
   "source": [
    "@qml.qnode(dev)\n",
    "def strongly_entangling_ansatz(observable, params):\n",
    "    \"\"\"Applies an ansatz with moderate entanglement.\n",
    "\n",
    "    Args:\n",
    "        observable (qml.op): a pennylane operator whose expectation value we want to measure.\n",
    "        params(np.array): an array with the trainable parameters of the ansatz. They have the shape of `qml.StronglyEntanglingLayers.shape(n_layers=1, n_wires=n_bits)`\n",
    "\n",
    "    Returns:\n",
    "        (np.tensor): a numpy tensor of 1 element corresponding to the expectation value of the given observable.\n",
    "    \"\"\"\n",
    "    ##################\n",
    "    # YOUR CODE HERE #\n",
    "    ##################\n",
    "    for i in range(n_bits):\n",
    "        qml.Rot(params[0][i][0],params[0][i][1],params[0][i][2],wires=i)\n",
    "    qml.CNOT(wires=[0, n_bits-1])\n",
    "    for i in range(1, n_bits):\n",
    "        qml.CNOT(wires=[i, i-1])\n",
    "\n",
    "    return qml.expval(observable)\n",
    "\n",
    "def cost_function(observable, observableparams):\n",
    "    \"\"\"Computes the cost function we want to minimize.\n",
    "\n",
    "    Args:\n",
    "        observable (qml.Hamiltonian): a pennylane Hamiltonian whose expectation value we want to measure.\n",
    "        params(np.array): an array with the trainable parameters of the ansatz.\n",
    "\n",
    "    Returns:\n",
    "        (np.tensor): a numpy tensor of 1 element corresponding to the cost function value\n",
    "    \"\"\"\n",
    "    ##################\n",
    "    # YOUR CODE HERE #\n",
    "    ##################\n",
    "    return strongly_entangling_ansatz(observable, observableparams)\n",
    "    \n",
    "\n",
    "def optimizer(observable, params, learning_rate=0.1, steps=100):\n",
    "    \"\"\"Updates the parameters to minimize the cost function value.\n",
    "\n",
    "    Args:\n",
    "        observable (qml.Hamiltonian): a pennylane Hamiltonian whose expectation value we want to measure.\n",
    "        params(np.array): an array with the trainable parameters of the ansatz.\n",
    "\n",
    "    Returns:\n",
    "        (np.array): an array with the optimized trainable parameters.\n",
    "    \"\"\"\n",
    "    ##################\n",
    "    # YOUR CODE HERE #\n",
    "    ##################\n",
    "    optimizer = qml.GradientDescentOptimizer(learning_rate)\n",
    "    optimized_params = params.copy()\n",
    "    cost = lambda p: cost_function(observable, p)\n",
    "\n",
    "    for _ in range(steps):\n",
    "        optimized_params = optimizer.step(cost, optimized_params)\n",
    "\n",
    "    return optimized_params\n",
    "    "
   ],
   "id": "6d0306ce6197d162",
   "outputs": [],
   "execution_count": 9
  },
  {
   "metadata": {
    "ExecuteTime": {
     "end_time": "2025-01-30T00:02:14.038077Z",
     "start_time": "2025-01-30T00:02:13.572007Z"
    }
   },
   "cell_type": "code",
   "source": [
    "num_layers = 1\n",
    "num_qubits = 4\n",
    "\n",
    "dev = qml.device('default.qubit', wires=num_qubits)\n",
    "shape = qml.StronglyEntanglingLayers.shape(n_layers=num_layers, n_wires=num_qubits)\n",
    "initial_params = np.random.randn(*shape, requires_grad=True)\n",
    "\n",
    "M = qml.Z(wires=0) @ qml.Z(wires=1) @ qml.Z(wires=2) @ qml.Z(wires=3)\n",
    "print(\"Initial cost:\", cost_function(M, initial_params))\n",
    "\n",
    "opt_params = optimizer(M, initial_params)\n",
    "\n",
    "print(\"Optimized parameters:\\n\", opt_params)\n",
    "print(\"Final cost:\", cost_function(M, opt_params))"
   ],
   "id": "6b15f0c85aaf81a2",
   "outputs": [
    {
     "name": "stdout",
     "output_type": "stream",
     "text": [
      "Initial cost: 0.9851462128432489\n",
      "Optimized parameters:\n",
      " [[[ 0.28343882  3.14079459  0.47582266]\n",
      "  [ 1.24979368 -1.1441016  -1.03249956]\n",
      "  [-0.79655982  1.65087592  0.61724533]\n",
      "  [ 0.64593448  1.89518846  0.55138141]]]\n",
      "Final cost: -0.9999996815447184\n"
     ]
    }
   ],
   "execution_count": 10
  },
  {
   "metadata": {},
   "cell_type": "markdown",
   "source": "---",
   "id": "b3fd4f66d525ee0e"
  }
 ],
 "metadata": {
  "kernelspec": {
   "display_name": "Python 3",
   "language": "python",
   "name": "python3"
  },
  "language_info": {
   "codemirror_mode": {
    "name": "ipython",
    "version": 2
   },
   "file_extension": ".py",
   "mimetype": "text/x-python",
   "name": "python",
   "nbconvert_exporter": "python",
   "pygments_lexer": "ipython2",
   "version": "2.7.6"
  }
 },
 "nbformat": 4,
 "nbformat_minor": 5
}
