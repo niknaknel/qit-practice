{
 "cells": [
  {
   "metadata": {},
   "cell_type": "markdown",
   "source": [
    "# Semi-definite Programming\n",
    "**Note:** This is a summary of what I learnt from reading the first two chapters of _Semidefinite Programming in Quantum Information Science_ by Skrzypczyk & Cavalcanti.\n",
    "* SDP is a type of convex optimization problem, i.e. the feasible set is convex and thus has only _global_ optima, not local _optima_.\n",
    "* SDP is a generalization of **linear programming (LP)**. An LP is basically just SDP with diagonal matrices and some other tricks!\n",
    "\n",
    "#### Primal formulation\n",
    "$$ \\max \\text{tr}(A X) $$\n",
    "\n",
    "subject to\n",
    "$$ \\Phi_i(X) = B_i \\quad\\quad i = 1,…, m $$\n",
    "$$ \\Gamma_j(X) ≼ C_j \\quad\\quad j = 1,…, n \\quad\\quad\\quad \\text{i.e.} \\quad C_j - \\Gamma_j(X) \\ge 0 $$\n",
    "\n",
    "Where:\n",
    "- $X$, the optimisation variable, is a Hermitian operator , i.e. $X^\\dagger = X$\n",
    "- $A, B_i, C_j$ are Hermitian operators.\n",
    "- $\\Phi_i(\\cdot)$ and $\\Gamma_j(\\cdot)$ are linear maps that are hermiticity-preserving, i.e. $\\Phi_i(X)$ and\n",
    "$\\Gamma_j(X)$ are Hermitian operators whenever X is Hermitian.\n",
    "\n",
    "#### Dual formulation\n",
    "* Every primal SDP has a dual formulation\n",
    "* The optimal value of the dual problem provides an upper bound on the optimal value of the primal problem.\n",
    "* **Strong duality** - These optimal values coincide under the mild assumptions of _strict feasibility_ (feasibility even under strict inequality) and _boundedness_.\n",
    "* If the dual SDP is strictly feasible and bounded, then strong duality also holds.\n",
    "* It is sufficient to check whether both the primal and dual problems are strictly feasible to have **strong duality**!\n",
    "\n",
    "$$ \\text{minimise} \\quad \\sum_{i=1}^{m} \\text{tr}(Y_i B_i) + \\sum_{j=1}^{n} \\text{tr}(Z_i C_i) $$\n",
    "$$ \\text{subject to} \\quad A - \\sum_{i=1}^{m} \\Phi_i^{\\dagger}(Y_i) - \\sum_{j=1}^{n} \\Gamma_j^{\\dagger}(Z_j) = 0 $$ \n",
    "$$ Z_j \\succeq 0 \\quad j = 1, \\dots, n. $$\n",
    "\n",
    "Where:\n",
    "- $Y_i$ is the Lagrange multiplier associated with the **equality** constraints on the primal problem.\n",
    "- $Z_j$ is the Lagrange multiplier associated with the **inequality** constraints on the primal problem.\n",
    "- Both $Y_i$ and $Z_j$ are Hermitian, i.e. $Y^\\dagger_i = Y_i$ and $Z^\\dagger_j = Z_j$\n",
    "---"
   ],
   "id": "207a2b64aa953231"
  },
  {
   "metadata": {},
   "cell_type": "markdown",
   "source": [
    "#### Code examples\n",
    "From the book by Skrzypczyk & Cavalcanti - _Semidefinite Programming in Quantum Information Science_"
   ],
   "id": "bf2c2ee820a3690a"
  },
  {
   "metadata": {
    "ExecuteTime": {
     "end_time": "2025-01-30T00:01:14.062248Z",
     "start_time": "2025-01-30T00:00:46.220944Z"
    }
   },
   "cell_type": "code",
   "source": [
    "## Example 2.1: Maximum Eigenvalue of Hermitian operator\n",
    "# (Basic example)\n",
    "import cvxpy as cp\n",
    "import numpy as np\n",
    "\n",
    "# Define variables\n",
    "ρ = cp.Variable((2, 2), symmetric=True)\n",
    "\n",
    "# Constraints\n",
    "constraints = [\n",
    "    ρ >> 0, # positive semi-definite\n",
    "    cp.trace(ρ) == 1 # trace == 1\n",
    "]\n",
    "\n",
    "# Objective function\n",
    "H = np.array([[0, 1], [1, 0]])\n",
    "objective = cp.Maximize(cp.trace(H @ ρ))\n",
    "\n",
    "# Solve SDP\n",
    "problem = cp.Problem(objective, constraints)\n",
    "problem.solve()\n",
    "\n",
    "print(\"Optimal ρ:\\n\", ρ.value)\n",
    "print(\"tr(Hρ) = \", np.trace(H @ ρ.value))"
   ],
   "id": "a2fc0b46010586f1",
   "outputs": [
    {
     "name": "stdout",
     "output_type": "stream",
     "text": [
      "Optimal ρ:\n",
      " [[0.5        0.50000007]\n",
      " [0.50000007 0.5       ]]\n",
      "tr(Hρ) =  1.0000001478211162\n"
     ]
    }
   ],
   "execution_count": 1
  },
  {
   "metadata": {
    "ExecuteTime": {
     "end_time": "2025-01-30T00:01:16.913959Z",
     "start_time": "2025-01-30T00:01:16.903771Z"
    }
   },
   "cell_type": "code",
   "source": [
    "## Example 2.2: Hamiltonian feasibility problem\n",
    "# (Converting feasibility problem into standard problem)\n",
    "# \"The problem is to determine whether there is a Hamiltonian H whose ground-state energy is nonnegative, consistent with the observed data\"\n",
    "\n",
    "# Define variables\n",
    "λ = cp.Variable((1,1), symmetric=True)\n",
    "H = cp.Variable((2, 2), symmetric=True)\n",
    "\n",
    "# Inputs (observed data)\n",
    "# states measured\n",
    "ρ = [\n",
    "    np.array([[0.5, 0], [0, 0.5]]),\n",
    "    np.array([[0.7, 1.2], [1.2, 0.3]])\n",
    "]\n",
    "# observed energy associated with each density matrix\n",
    "E = [0.2, 0.6] # change one of these to negative to make infeasible\n",
    "\n",
    "# Constraints\n",
    "constraints = [\n",
    "    H >> λ*np.identity(2), # positive semi-definite\n",
    "    cp.trace(H @ ρ[0]) == E[0], # measuring state gives corresponding energy observed\n",
    "    cp.trace(H @ ρ[1]) == E[1]\n",
    "]\n",
    "\n",
    "# Objective function\n",
    "objective = cp.Maximize(λ)\n",
    "\n",
    "# Solve SDP\n",
    "problem = cp.Problem(objective, constraints)\n",
    "problem.solve()\n",
    "\n",
    "is_feasible = \"is feasible\" if (λ.value >= 0) else \"is not feasible\"\n",
    "print(\"Optimal λ:\\n\", λ.value)\n",
    "print(\"Therefore, the problem of finding a Hamiltonian with non-negative g.s. energy %s\" % is_feasible)"
   ],
   "id": "34dd1173f808b4f2",
   "outputs": [
    {
     "name": "stdout",
     "output_type": "stream",
     "text": [
      "Optimal λ:\n",
      " [[0.03560894]]\n",
      "Therefore, the problem of finding a Hamiltonian with non-negative g.s. energy is feasible\n"
     ]
    }
   ],
   "execution_count": 2
  },
  {
   "metadata": {
    "ExecuteTime": {
     "end_time": "2025-01-30T00:01:18.781420Z",
     "start_time": "2025-01-30T00:01:18.768296Z"
    }
   },
   "cell_type": "code",
   "source": [
    "## Example 2.3\n",
    "# Finding trace and operator norms using SDP\n",
    "\n",
    "dim = 2\n",
    "A = np.random.rand(dim,dim)\n",
    "\n",
    "## Calculate norms using numpy:\n",
    "n1_exp = np.linalg.norm(A, ord=1)\n",
    "ninf_exp = np.linalg.norm(A, ord=np.inf)\n",
    "\n",
    "## Using SDP:\n",
    "# Define variables\n",
    "x = cp.Variable((1,1), symmetric=True)\n",
    "X = cp.Variable((dim, dim), symmetric=True)\n",
    "\n",
    "# Constraints\n",
    "n1_con = [-X << A, A << X]\n",
    "ninf_con = [-x*np.identity(dim) << A, A << x*np.identity(dim)]\n",
    "\n",
    "# Objective function\n",
    "n1_obj = cp.Minimize(cp.trace(X))\n",
    "ninf_obj = cp.Minimize(x)\n",
    "\n",
    "# Solve SDP\n",
    "n1_sdp = cp.Problem(n1_obj, n1_con)\n",
    "ninf_sdp = cp.Problem(ninf_obj, ninf_con)\n",
    "n1_sdp.solve()\n",
    "ninf_sdp.solve()\n",
    "\n",
    "# get vals\n",
    "n1 = np.trace(X.value)\n",
    "ninf = x.value[0][0]\n",
    "\n",
    "# compare\n",
    "print(\"       Numpy |  SDP  \")\n",
    "print(\"  A1 | %.3f | %.3f\" % (n1_exp, n1))\n",
    "print(\"Ainf | %.3f | %.3f\" % (ninf_exp, ninf))\n",
    "\n",
    "# Observation: SDP not always as effective - numerical inaccuracies\n"
   ],
   "id": "68d5b01f277fc52c",
   "outputs": [
    {
     "name": "stdout",
     "output_type": "stream",
     "text": [
      "       Numpy |  SDP  \n",
      "  A1 | 1.117 | 1.219\n",
      "Ainf | 1.081 | 1.009\n"
     ]
    }
   ],
   "execution_count": 3
  },
  {
   "metadata": {
    "ExecuteTime": {
     "end_time": "2025-01-30T00:01:20.757499Z",
     "start_time": "2025-01-30T00:01:20.750703Z"
    }
   },
   "cell_type": "code",
   "source": [
    "## Example 2.4: Dual form of maximum eigenvalue\n",
    "# input (use the same H as before)\n",
    "H = np.array([[0, 1], [1, 0]])\n",
    "\n",
    "y = cp.Variable((1,1), symmetric=True)\n",
    "constraints = [y*np.identity(2) >> H]\n",
    "\n",
    "# objective fn\n",
    "obj = cp.Minimize(y)\n",
    "\n",
    "# solve SDP\n",
    "sdp = cp.Problem(obj, constraints)\n",
    "\n",
    "sdp.solve()\n",
    "\n",
    "print(\"Optimal y: \", y.value)\n",
    "# recall previous Optimal: tr(Hρ) = 1.0000001478211162\n",
    "# Very similar!!\n"
   ],
   "id": "e37cd1aa83a13e21",
   "outputs": [
    {
     "name": "stdout",
     "output_type": "stream",
     "text": [
      "Optimal y:  [[1.00000098]]\n"
     ]
    }
   ],
   "execution_count": 4
  }
 ],
 "metadata": {
  "kernelspec": {
   "display_name": "Python 3",
   "language": "python",
   "name": "python3"
  },
  "language_info": {
   "codemirror_mode": {
    "name": "ipython",
    "version": 2
   },
   "file_extension": ".py",
   "mimetype": "text/x-python",
   "name": "python",
   "nbconvert_exporter": "python",
   "pygments_lexer": "ipython2",
   "version": "2.7.6"
  }
 },
 "nbformat": 4,
 "nbformat_minor": 5
}
