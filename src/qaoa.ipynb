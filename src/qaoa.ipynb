{
 "cells": [
  {
   "metadata": {},
   "cell_type": "markdown",
   "source": [
    "# Quantum Approximate Optimization Algorithm\n",
    "\n",
    "## Summary\n",
    "* VQA for solving combinatorial problems\n",
    "* Solutions for the combinatorial are encoded as quantum states \n",
    "* Apply adiabatic theorem to minimize the value of some cost Hamiltonian\n",
    "* Start from the known ground state of some mixture $H_M$, then slowly evolve the parameters in the circuit, updating the cost function to converge to that of $H_C$. According to the adiabatic theorem, the system will remain in the ground state throughout this evolution, ensuring that the final quantum state measured will be the ground state of $H_C$.\n",
    "\n",
    "**Method**\n",
    "1. Define $H_C$ and $H_M$. A good choice for $H_M$ is usually the sum of Pauli X\n",
    "2. Prepare the circuit:\n",
    "    * Initialise the system in the g.s. of $H_M$\n",
    "    * Apply alternating layers of cost and mixer Hamiltonian parameterised evolution operators\n",
    "3. Measure the expectation value of $H_C$\n",
    "4. Classically optimize the parameters of the evolution operators so as to minimize $\\langle H_C \\rangle$\n",
    "---"
   ],
   "id": "543c170eb08b1709"
  },
  {
   "metadata": {},
   "cell_type": "markdown",
   "source": "### Codercise V.3.1.a - Building the QAOA",
   "id": "8b27405cb7fc7210"
  },
  {
   "cell_type": "code",
   "id": "initial_id",
   "metadata": {
    "collapsed": true,
    "ExecuteTime": {
     "end_time": "2025-02-04T23:14:09.472610Z",
     "start_time": "2025-02-04T23:14:09.416073Z"
    }
   },
   "source": [
    "import pennylane as qml\n",
    "import numpy as np\n",
    "import matplotlib.pyplot as plt\n",
    "\n",
    "n_wires = 1\n",
    "dev = qml.device(\"default.qubit\", wires=n_wires)\n",
    "p = 3\n",
    "cost_h = qml.Hamiltonian([1], [qml.PauliZ(0)])\n",
    "mixer_h = qml.Hamiltonian([1], [qml.PauliX(0)])\n",
    "params = np.ones((p, 2)) * 0.5\n",
    "\n",
    "def qaoa_layer(params):\n",
    "    \"\"\"Implement one QAOA layer alternating H_C and H_M.\n",
    "\n",
    "    Args:\n",
    "        params (np.array): An array with the trainable parameters of the QAOA ansatz.\n",
    "        cost_h (qml.Hamiltonian): The cost Hamiltonian\n",
    "    \"\"\"\n",
    "    qml.qaoa.cost_layer(params[0], cost_h)\n",
    "    qml.qaoa.mixer_layer(params[1], mixer_h)\n",
    "    \n",
    "\n",
    "def qaoa_circuit(params, p, cost_h):\n",
    "    \"\"\"Implement the initial state and p layers of the QAOA ansatz.\n",
    "\n",
    "    Args:\n",
    "        params (np.array): An array with the trainable parameters of the QAOA ansatz.\n",
    "        p (int): Number of layers of the QAOA ansatz.\n",
    "        cost_h (qml.Hamiltonian): The cost Hamiltonian\n",
    "    \"\"\"\n",
    "    qml.Hadamard(wires=0)\n",
    "    qml.layer(qaoa_layer, p, params)\n",
    "\n",
    "\n",
    "@qml.qnode(dev)\n",
    "def probability_circuit(params, p, cost_h):\n",
    "    \"\"\"QAOA circuit which returns the probabilities.\n",
    "    Args:\n",
    "        params (np.array): An array with the trainable parameters of the QAOA ansatz.\n",
    "        p (int): Number of layers of the QAOA ansatz.\n",
    "        cost_h (qml.Hamiltonian): The cost Hamiltonian\n",
    "    Returns:\n",
    "        (np.tensor): A tensor with the probabilities of measuring the quantum states.\n",
    "    \"\"\"\n",
    "    qaoa_circuit(params, p, cost_h)\n",
    "    return qml.probs(wires=[0])\n",
    "\n",
    "plt.bar(['0', '1'], probability_circuit(params,p,cost_h))\n",
    "plt.xlabel('Basis state')\n",
    "plt.ylabel('Probability')\n",
    "plt.show()"
   ],
   "outputs": [
    {
     "data": {
      "text/plain": [
       "<Figure size 640x480 with 1 Axes>"
      ],
      "image/png": "[encoded data removed]"
     },
     "metadata": {},
     "output_type": "display_data"
    }
   ],
   "execution_count": 64
  },
  {
   "metadata": {},
   "cell_type": "markdown",
   "source": "### Codercise V.3.1.b - Building the QAOA",
   "id": "a8413816d599d73d"
  },
  {
   "metadata": {
    "ExecuteTime": {
     "end_time": "2025-02-04T23:14:13.491609Z",
     "start_time": "2025-02-04T23:14:13.234256Z"
    }
   },
   "cell_type": "code",
   "source": [
    "n_wires = 1\n",
    "dev = qml.device(\"default.qubit\", wires=n_wires)\n",
    "p=3\n",
    "cost_h=qml.Hamiltonian([1], [qml.PauliZ(0)])\n",
    "mixer_h=qml.Hamiltonian([1], [qml.PauliX(0)])\n",
    "params=np.ones((p, 2)) * 0.5\n",
    "\n",
    "def optimizer(params,p,cost_h):\n",
    "    \"\"\"Optimizer to adjust the parameters.\n",
    "\n",
    "    Args:\n",
    "        params (np.array): An array with the trainable parameters of the QAOA ansatz.\n",
    "        p (int): Number of layers of the QAOA ansatz.\n",
    "        cost_h (qml.Hamiltonian): The cost Hamiltonian\n",
    "        \n",
    "    Returns:\n",
    "        (np.array): An array with the optimized parameters of the QAOA ansatz.\n",
    "    \"\"\"      \n",
    "    optimizer = qml.AdamOptimizer(0.1)\n",
    "    steps = 100\n",
    "    for _ in range(steps):\n",
    "        params, _ , _ = optimizer.step(cost_function, params,p,cost_h)\n",
    "    return params\n",
    "\n",
    "@qml.qnode(dev)\n",
    "def cost_function(params,p,cost_h):\n",
    "    \"\"\"Cost function of the QAOA circuit.\n",
    "    Args:\n",
    "        params (np.array): An array with the trainable parameters of the QAOA ansatz.\n",
    "        p (int): Number of layers of the QAOA ansatz.\n",
    "\n",
    "    Returns: \n",
    "        (np.tensor): A 1 dimensional tensor with the expected value of the cost Hamiltonian after applying the QAOA circuit.\n",
    "    \"\"\"  \n",
    "    ##################\n",
    "    # YOUR CODE HERE #\n",
    "    ##################\n",
    "    qaoa_circuit(params, p, cost_h)\n",
    "    return qml.expval(cost_h)\n",
    "\n",
    "def execute_QAOA(params,p,cost_h):\n",
    "    \"\"\"Execute QAOA Algorithm.\n",
    "    Args:\n",
    "        params (np.array): An array with the trainable parameters of the QAOA ansatz.\n",
    "        p (int): Number of layers of the QAOA ansatz.\n",
    "        cost_h (qml.Hamiltonian): The cost Hamiltonian\n",
    "\n",
    "    Returns:\n",
    "        (np.tensor): A tensor with the final probabilities of measuring the quantum states.\n",
    "        (np.array): The optimized parameters of the QAOA.\n",
    "    \"\"\"  \n",
    "    ##################\n",
    "    # YOUR CODE HERE #\n",
    "    ##################\n",
    "    opt_params = optimizer(params,p,cost_h)\n",
    "    probs = probability_circuit(opt_params,p,cost_h)\n",
    "    return probs, opt_params\n",
    "    \n",
    "\n",
    "execute_QAOA(params,p,cost_h)"
   ],
   "id": "6126b570a09b8505",
   "outputs": [
    {
     "data": {
      "text/plain": [
       "(tensor([0.68102275, 0.31897725], requires_grad=True),\n",
       " array([[0.5, 0.5],\n",
       "        [0.5, 0.5],\n",
       "        [0.5, 0.5]]))"
      ]
     },
     "execution_count": 65,
     "metadata": {},
     "output_type": "execute_result"
    }
   ],
   "execution_count": 65
  },
  {
   "metadata": {},
   "cell_type": "markdown",
   "source": "### Codercise V.3.2 - Ising Hamiltonian",
   "id": "525184498ff5491c"
  },
  {
   "metadata": {
    "ExecuteTime": {
     "end_time": "2025-02-04T23:33:31.500931Z",
     "start_time": "2025-02-04T23:33:31.495508Z"
    }
   },
   "cell_type": "code",
   "source": [
    "# Hamiltonian test\n",
    "n_particles = 3\n",
    "n_wires = n_particles\n",
    "h_list=[1,2,-3]\n",
    "\n",
    "def ising_ham(n_particles):\n",
    "    first_term = [\"Z%d x Z%d\" % (i, i+1) for i in range(n_particles-1)] + [\"Z%d x Z%d\" % (n_particles-1, 0)]\n",
    "    \n",
    "    second_term = [\"h%d Z%d\" % (i, i) for i in range(n_particles)]\n",
    "    coeffs = [-1 for _ in range(len(first_term + second_term))]\n",
    "    \n",
    "    return zip(coeffs, first_term + second_term)\n",
    "    \n",
    "list(ising_ham(n_particles))\n",
    "    "
   ],
   "id": "4db3566cb4f247f1",
   "outputs": [
    {
     "data": {
      "text/plain": [
       "[(-1, 'Z0 x Z1'),\n",
       " (-1, 'Z1 x Z2'),\n",
       " (-1, 'Z2 x Z0'),\n",
       " (-1, 'h0 Z0'),\n",
       " (-1, 'h1 Z1'),\n",
       " (-1, 'h2 Z2')]"
      ]
     },
     "execution_count": 80,
     "metadata": {},
     "output_type": "execute_result"
    }
   ],
   "execution_count": 80
  },
  {
   "metadata": {
    "ExecuteTime": {
     "end_time": "2025-02-04T23:53:05.209402Z",
     "start_time": "2025-02-04T23:53:05.204388Z"
    }
   },
   "cell_type": "code",
   "source": [
    "n_particles = 3\n",
    "n_wires = n_particles\n",
    "h_list=[1,2,-3]\n",
    "# Define the mixer Hamiltonian\n",
    "mixer_h = qml.Hamiltonian([1.0] * n_wires, [qml.PauliX(i) for i in range(n_wires)])\n",
    "# Define number of layers and initial parameters\n",
    "p=5\n",
    "params=np.ones((p, 2)) * 0.5\n",
    "\n",
    "def build_cost_ising(n_particles, h_list):\n",
    "    \"\"\"Function to build the cost Hamiltonian of the Longitudinal Ising problem.\n",
    "    \n",
    "    Args:\n",
    "        n_particles (int): Number of particles to be considered in the Hamiltonian.\n",
    "        h_list (list[float]): List of magnetic field values for each particle.\n",
    "        \n",
    "    Returns:\n",
    "        (qml.Hamiltonian): The cost Hamiltonian of the Longitudinal Ising model.\n",
    "    \"\"\"\n",
    "    ##################\n",
    "    # YOUR CODE HERE #\n",
    "    ##################\n",
    "    first_term = [qml.PauliZ(i) @ qml.PauliZ(i+1) for i in range(n_particles-1)] + [qml.PauliZ(n_particles-1) @ qml.PauliZ(0)]\n",
    "    second_term = [qml.PauliZ(i) for i in range(n_particles)]\n",
    "    coeffs = [-1 for _ in range(len(first_term))] + [-1*h_list[i] for i in range(len(second_term))]\n",
    "    return qml.Hamiltonian(coeffs, first_term + second_term)\n",
    "\n",
    "\n",
    "def QAOA_ising(params,p,cost_h):\n",
    "    \"\"\"QAOA Algorithm to solve the Longitudinal Ising problem.\n",
    "    Args:\n",
    "        params (np.array): an array with the trainable parameters of the QAOA ansatz.\n",
    "        p (int): number of layers of the QAOA ansatz.\n",
    "        cost_h (qml.Hamiltonian): the cost Hamiltonian.\n",
    "        \n",
    "    Returns:\n",
    "        (np.tensor): a tensor with the final probabilities of measuring the quantum states.\n",
    "        (np.array): the optimized parameters of the QAOA.\n",
    "    \"\"\"  \n",
    "    ##################\n",
    "    # YOUR CODE HERE #\n",
    "    ##################\n",
    "    opt_params = optimizer(params,p,cost_h)\n",
    "    probs = probability_circuit(opt_params,p,cost_h)\n",
    "    return probs, opt_params\n"
   ],
   "id": "af33f85aac4adfc0",
   "outputs": [],
   "execution_count": 92
  },
  {
   "metadata": {},
   "cell_type": "code",
   "outputs": [],
   "execution_count": null,
   "source": "",
   "id": "d29180f466f1fded"
  }
 ],
 "metadata": {
  "kernelspec": {
   "display_name": "Python 3",
   "language": "python",
   "name": "python3"
  },
  "language_info": {
   "codemirror_mode": {
    "name": "ipython",
    "version": 2
   },
   "file_extension": ".py",
   "mimetype": "text/x-python",
   "name": "python",
   "nbconvert_exporter": "python",
   "pygments_lexer": "ipython2",
   "version": "2.7.6"
  }
 },
 "nbformat": 4,
 "nbformat_minor": 5
}
